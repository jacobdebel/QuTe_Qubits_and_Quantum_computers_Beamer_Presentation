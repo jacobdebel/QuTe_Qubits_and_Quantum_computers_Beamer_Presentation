{
 "cells": [
  {
   "cell_type": "markdown",
   "id": "d2c4eac8-7974-4e1c-b1d3-c1d5481ecb4c",
   "metadata": {},
   "source": [
    "# IBM Q Exercise 3: Measurement of two (entangled) qubits\n",
    "### Written by Anna Liv Paludan Bjerregaard"
   ]
  },
  {
   "cell_type": "markdown",
   "id": "efd1b463-6ea9-44e4-be7a-02e27f8c69b5",
   "metadata": {},
   "source": [
    "In this exxercise we will study *entanglement* which happens when measuring one qubit would influence the measurement on another! We start again by constructing a circuit."
   ]
  },
  {
   "cell_type": "code",
   "execution_count": null,
   "id": "d308b54c-bb21-4916-bebb-408399228513",
   "metadata": {},
   "outputs": [],
   "source": [
    "import numpy as np\n",
    "import matplotlib.pyplot as plt\n",
    "# Importing standard Qiskit libraries\n",
    "from qiskit.providers.ibmq import least_busy\n",
    "from qiskit import QuantumCircuit, transpile, Aer, IBMQ, assemble\n",
    "\n",
    "from qiskit.tools.jupyter import *\n",
    "from qiskit.visualization import *\n",
    "from ibm_quantum_widgets import *\n",
    "\n",
    "# Loading your IBM Q account(s)\n",
    "provider = IBMQ.load_account()"
   ]
  },
  {
   "cell_type": "code",
   "execution_count": null,
   "id": "2be842db-c37d-430c-8a95-48b3185b6fa7",
   "metadata": {},
   "outputs": [],
   "source": [
    "circuit = QuantumCircuit(2,2)\n",
    "circuit.h(0)\n",
    "circuit.cx(0,1)\n",
    "circuit.x(1)\n",
    "circuit.measure(0,0)\n",
    "circuit.measure(1,1)\n",
    "circuit.draw()"
   ]
  },
  {
   "cell_type": "markdown",
   "id": "4925bfb4-f81a-4abf-a6bc-c8333e7db4f4",
   "metadata": {},
   "source": [
    "**Exercise:** Show that the qubits are in the state\n",
    "$$\\frac{1}{\\sqrt{2}}\\left(|01\\rangle + |10\\rangle\\right)\\:.$$\n",
    "Is this an entangled state?\n",
    "\n",
    "*Hint: The line between $q_0$ and $q_1$ is a CNOT operator (definition 13 in the notes)*\n",
    "\n",
    "We've set up the circuit such that $q_0$ is measured before $q_1$. If the measurement of $q_0$ returns $0$, what will be the measurement of $q_1$?"
   ]
  },
  {
   "cell_type": "code",
   "execution_count": null,
   "id": "bc14b50f-95f4-4647-a92e-650bdd35ab4b",
   "metadata": {},
   "outputs": [],
   "source": [
    "sim = True\n",
    "N_measure = 1024"
   ]
  },
  {
   "cell_type": "code",
   "execution_count": null,
   "id": "516314b9-2fd7-4312-9b34-dfa0eb0be2fe",
   "metadata": {},
   "outputs": [],
   "source": [
    "if sim:\n",
    "    simulator = Aer.get_backend('aer_simulator')\n",
    "    Nmeasure = N_measure #Amount of times the circuit is run\n",
    "    result = simulator.run(circuit, shots=Nmeasure).result() \n",
    "    device_counts = result.get_counts() #Saves results as dictionary object\n",
    "    #Simulation code\n",
    "else:\n",
    "# Load our saved IBMQ accounts and get the least busy backend device with less than or equal to 5 qubits\n",
    "    n=3\n",
    "    IBMQ.load_account()\n",
    "    provider = IBMQ.get_provider(hub='ibm-q')\n",
    "    backend = least_busy(provider.backends(filters=lambda x: x.configuration().n_qubits >= n and \n",
    "                                       not x.configuration().simulator and x.status().operational==True))\n",
    "    #Finds the least busy quantum computer on the IBM Q network\n",
    "    print(\"least busy backend: \", backend)\n",
    "\n",
    "# Execute and monitor the job\n",
    "    from qiskit.tools.monitor import job_monitor\n",
    "    shots = 1024\n",
    "    transpiled_circ = transpile(circuit, backend, optimization_level=3) \n",
    "    qobj = assemble(transpiled_circ, shots=shots)\n",
    "    job = backend.run(qobj) #Send circuit to the quantum computer\n",
    "    job_monitor(job, interval=2)\n",
    "    device_counts = job.result().get_counts()\n",
    "\n",
    "possible_measurements = ['00','10','01','11']\n",
    "measurement_names = ['|00>','|10>','|01>','|11>']\n",
    "\n",
    "for name, measurement in zip(measurement_names, possible_measurements):\n",
    "    try:\n",
    "        device_counts[name] = device_counts.pop(measurement)\n",
    "    except:\n",
    "        device_counts[name] = 0\n",
    "\n",
    "print(device_counts)\n",
    "plot_histogram(device_counts)"
   ]
  },
  {
   "cell_type": "markdown",
   "id": "2fd8613a-8dd9-4a84-a269-85f0ab8b5b87",
   "metadata": {},
   "source": [
    "**Exercise:** Explain the histogram above. Remember that IBM Q puts the result for $q_0$ to the right and $q_1$ to the left\n",
    "\n",
    "Let's try a different circuit!"
   ]
  },
  {
   "cell_type": "code",
   "execution_count": null,
   "id": "47ba8599-09bc-44cc-b56d-4b558616802f",
   "metadata": {},
   "outputs": [],
   "source": [
    "circuit = QuantumCircuit(2,2)\n",
    "circuit.h(0)\n",
    "circuit.cx(0,1)\n",
    "circuit.measure(0,0)\n",
    "circuit.measure(1,1)\n",
    "circuit.draw()"
   ]
  },
  {
   "cell_type": "markdown",
   "id": "5c43d04a-0a46-4cbc-852a-4ddd061518c7",
   "metadata": {},
   "source": [
    "**Exercise:** What state are the qubits in before the measurement? Are they entangled?"
   ]
  },
  {
   "cell_type": "code",
   "execution_count": null,
   "id": "1d26458d-2217-4606-99fa-5a56f4bdccfe",
   "metadata": {},
   "outputs": [],
   "source": [
    "sim = True\n",
    "N_measure = 1024"
   ]
  },
  {
   "cell_type": "code",
   "execution_count": null,
   "id": "4a2f149b-7aa1-4f5e-bbf5-c5870aab1a1e",
   "metadata": {},
   "outputs": [],
   "source": [
    "if sim:\n",
    "    simulator = Aer.get_backend('aer_simulator')\n",
    "    Nmeasure = N_measure #Amount of times the circuit is run\n",
    "    result = simulator.run(circuit, shots=Nmeasure).result() \n",
    "    device_counts = result.get_counts() #Saves results as dictionary object\n",
    "    #Simulation code\n",
    "else:\n",
    "# Load our saved IBMQ accounts and get the least busy backend device with less than or equal to 5 qubits\n",
    "    n=3\n",
    "    IBMQ.load_account()\n",
    "    provider = IBMQ.get_provider(hub='ibm-q')\n",
    "    backend = least_busy(provider.backends(filters=lambda x: x.configuration().n_qubits >= n and \n",
    "                                       not x.configuration().simulator and x.status().operational==True))\n",
    "    #Finds the least busy quantum computer on the IBM Q network\n",
    "    print(\"least busy backend: \", backend)\n",
    "\n",
    "# Execute and monitor the job\n",
    "    from qiskit.tools.monitor import job_monitor\n",
    "    shots = 1024\n",
    "    transpiled_circ = transpile(circuit, backend, optimization_level=3) \n",
    "    qobj = assemble(transpiled_circ, shots=shots)\n",
    "    job = backend.run(qobj) #Send circuit to the quantum computer\n",
    "    job_monitor(job, interval=2)\n",
    "    device_counts = job.result().get_counts()\n",
    "\n",
    "possible_measurements = ['00','10','01','11']\n",
    "measurement_names = ['|00>','|10>','|01>','|11>']\n",
    "\n",
    "for name, measurement in zip(measurement_names, possible_measurements):\n",
    "    try:\n",
    "        device_counts[name] = device_counts.pop(measurement)\n",
    "    except:\n",
    "        device_counts[name] = 0\n",
    "\n",
    "print(device_counts)\n",
    "plot_histogram(device_counts)"
   ]
  },
  {
   "cell_type": "markdown",
   "id": "42d6494c-03c3-46f1-a7d3-e4e02b965955",
   "metadata": {},
   "source": [
    "**Exercise:** Explain the histogram from the state of the qubits.\n",
    "\n",
    "Now that you've done measurements on entangled qubits, you have a solid foundation for learning how quantum computers are used to solve problems! We will build upon this in the nex exercise on Grover's algorithm."
   ]
  },
  {
   "cell_type": "markdown",
   "id": "450bc2f4-687b-4623-9198-89ab96d23f72",
   "metadata": {},
   "source": [
    "**Bonus exercise:** We'll now construc a similar circuit to the first one in this exercise, apart from the fact that we put the qubits in the state\n",
    "$$\\frac{1}{\\sqrt{2}}\\left(|01\\rangle-|10\\rangle\\right)$$\n",
    "before the measurement is performed. Will this impact the result of the measurement? Why or why not?"
   ]
  },
  {
   "cell_type": "code",
   "execution_count": null,
   "id": "1dabcf76-8d4e-4a8a-9b35-3f0e2500c9f8",
   "metadata": {},
   "outputs": [],
   "source": [
    "circuit = QuantumCircuit(2,2)\n",
    "circuit.h(0)\n",
    "circuit.cx(0,1)\n",
    "circuit.x(1)\n",
    "circuit.z(1)\n",
    "circuit.measure(0,0)\n",
    "circuit.measure(1,1)\n",
    "circuit.draw()"
   ]
  },
  {
   "cell_type": "code",
   "execution_count": null,
   "id": "67c2d06c-1ad3-4e51-b6ad-2486d723446e",
   "metadata": {},
   "outputs": [],
   "source": [
    "sim = True\n",
    "N_measure = 1024"
   ]
  },
  {
   "cell_type": "code",
   "execution_count": null,
   "id": "a9dc77c1-5b8b-48bf-8a20-a4571756dd7d",
   "metadata": {},
   "outputs": [],
   "source": [
    "if sim:\n",
    "    simulator = Aer.get_backend('aer_simulator')\n",
    "    Nmeasure = N_measure #Amount of times the circuit is run\n",
    "    result = simulator.run(circuit, shots=Nmeasure).result() \n",
    "    device_counts = result.get_counts() #Saves results as dictionary object\n",
    "    #Simulation code\n",
    "else:\n",
    "# Load our saved IBMQ accounts and get the least busy backend device with less than or equal to 5 qubits\n",
    "    n=3\n",
    "    IBMQ.load_account()\n",
    "    provider = IBMQ.get_provider(hub='ibm-q')\n",
    "    backend = least_busy(provider.backends(filters=lambda x: x.configuration().n_qubits >= n and \n",
    "                                       not x.configuration().simulator and x.status().operational==True))\n",
    "    #Finds the least busy quantum computer on the IBM Q network\n",
    "    print(\"least busy backend: \", backend)\n",
    "\n",
    "# Execute and monitor the job\n",
    "    from qiskit.tools.monitor import job_monitor\n",
    "    shots = 1024\n",
    "    transpiled_circ = transpile(circuit, backend, optimization_level=3) \n",
    "    qobj = assemble(transpiled_circ, shots=shots)\n",
    "    job = backend.run(qobj) #Send circuit to the quantum computer\n",
    "    job_monitor(job, interval=2)\n",
    "    device_counts = job.result().get_counts()\n",
    "\n",
    "possible_measurements = ['00','10','01','11']\n",
    "measurement_names = ['|00>','|10>','|01>','|11>']\n",
    "\n",
    "for name, measurement in zip(measurement_names, possible_measurements):\n",
    "    try:\n",
    "        device_counts[name] = device_counts.pop(measurement)\n",
    "    except:\n",
    "        device_counts[name] = 0\n",
    "\n",
    "print(device_counts)\n",
    "plot_histogram(device_counts)"
   ]
  }
 ],
 "metadata": {
  "kernelspec": {
   "display_name": "Python 3 (ipykernel)",
   "language": "python",
   "name": "python3"
  },
  "language_info": {
   "codemirror_mode": {
    "name": "ipython",
    "version": 3
   },
   "file_extension": ".py",
   "mimetype": "text/x-python",
   "name": "python",
   "nbconvert_exporter": "python",
   "pygments_lexer": "ipython3",
   "version": "3.9.13"
  },
  "widgets": {
   "application/vnd.jupyter.widget-state+json": {
    "state": {},
    "version_major": 2,
    "version_minor": 0
   }
  }
 },
 "nbformat": 4,
 "nbformat_minor": 5
}
