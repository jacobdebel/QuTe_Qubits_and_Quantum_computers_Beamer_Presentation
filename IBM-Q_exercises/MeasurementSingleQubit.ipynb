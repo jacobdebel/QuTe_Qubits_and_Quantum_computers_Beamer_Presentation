{
 "cells": [
  {
   "cell_type": "markdown",
   "id": "cde050f3-178c-49d2-8141-400cfe9b2409",
   "metadata": {},
   "source": [
    "# IBM Q Exercise 1: Measurement of 1 qubit\n",
    "### Written by Anna Liv Paludan Bjerregaard"
   ]
  },
  {
   "cell_type": "markdown",
   "id": "212aceb6-b5b9-4d50-b76d-6bb1cd000574",
   "metadata": {},
   "source": [
    "This exercise will introduce you to the possibilities in IBM Q and at the same time allow you to explore som very cool quantum physics! You will \n",
    "\n",
    "1) Produce your first quantum-circuit\n",
    "\n",
    "2) Measure a qubit \n",
    "\n",
    "3) Use operators on this qubit\n",
    "\n",
    "IBM Q uses the code-language Python. Please, don't worry too much about this, we do not expect you know this in advance. All you need to know to get started is that you press `shift`+`return` to run the code in a given cell - try it out with the cell below which imports the packages we will need for the exercise!"
   ]
  },
  {
   "cell_type": "code",
   "execution_count": 1,
   "id": "abb7b29c-e8bd-4146-84ea-97360fb5fc7f",
   "metadata": {},
   "outputs": [],
   "source": [
    "import numpy as np\n",
    "import matplotlib.pyplot as plt\n",
    "# Importing standard Qiskit libraries\n",
    "from qiskit.providers.ibmq import least_busy\n",
    "from qiskit import QuantumCircuit, transpile, Aer, IBMQ, assemble\n",
    "\n",
    "from qiskit.tools.jupyter import *\n",
    "from qiskit.visualization import *\n",
    "from ibm_quantum_widgets import *\n",
    "\n",
    "# Loading your IBM Q account(s)\n",
    "provider = IBMQ.load_account()"
   ]
  },
  {
   "cell_type": "markdown",
   "id": "ebff8074-b7b6-4941-8498-739b008c7a41",
   "metadata": {},
   "source": [
    "We start off with a quantum circuit with a single qubit and a measurement device. Run the code below to set up the circit."
   ]
  },
  {
   "cell_type": "code",
   "execution_count": 2,
   "id": "7f004275-ff5a-455a-a6ff-4ccce023c8d1",
   "metadata": {},
   "outputs": [
    {
     "data": {
      "image/png": "[encoded data removed]",
      "text/plain": [
       "<Figure size 185.453x200.667 with 1 Axes>"
      ]
     },
     "execution_count": 2,
     "metadata": {},
     "output_type": "execute_result"
    }
   ],
   "source": [
    "circuit = QuantumCircuit(1,1) #Circuit with one qubit and one classical bit\n",
    "circuit.measure(0,0) #Measure the first qubit and save the result in the first classical bit\n",
    "circuit.draw() #Draw a circuit diagram"
   ]
  },
  {
   "cell_type": "markdown",
   "id": "ae5c3d7d-92ff-48ce-837c-d3bf165d12f9",
   "metadata": {},
   "source": [
    "***How to read the diagram:*** The above diagram is read from left to right. The line \"q\" indicates a qubit while the \"c\" line indicates a classical bit. The black box with the gauge is the measurement device - it performs a measurement of the qubit and stores the result in the classical bit.\n",
    "\n",
    "For a start the qubit is always in the state $|0\\rangle$.\n",
    "\n",
    "**Exercise 1:** Which result do you expect will result from the measurement in this circuit?\n",
    "\n",
    "Now try to check with an experiment! \n",
    "\n",
    "The code below takes this circuit, performs the corresponding experiment and shows the results. The variable `N_measure`determines the number of times the experiment is repeated. The quantity `sim` determines if the experiment will be carried out in a simulator or a real quantum computer! If you set `sim = False` the instructions in the circuit will be send to a real quantum computer somewhere in the world! Note that this may take some time as you may have to wait for your turn - but why not try tonight or during the weekend where the line is typically shorter!"
   ]
  },
  {
   "cell_type": "code",
   "execution_count": 3,
   "id": "7ba4b105-566e-4cd3-b7f4-bafcd9214470",
   "metadata": {},
   "outputs": [],
   "source": [
    "sim = True\n",
    "N_measure = 200"
   ]
  },
  {
   "cell_type": "code",
   "execution_count": 4,
   "id": "836840f3-0a63-4703-bf64-9b736bbb1ef7",
   "metadata": {},
   "outputs": [
    {
     "name": "stdout",
     "output_type": "stream",
     "text": [
      "{'0': 200, '1': 0}\n"
     ]
    },
    {
     "data": {
      "image/png": "[encoded data removed]",
      "text/plain": [
       "<Figure size 700x500 with 1 Axes>"
      ]
     },
     "execution_count": 4,
     "metadata": {},
     "output_type": "execute_result"
    }
   ],
   "source": [
    "if sim:\n",
    "    simulator = Aer.get_backend('aer_simulator')\n",
    "    Nmeasure = N_measure #Amount of times the circuit is run\n",
    "    result = simulator.run(circuit, shots=Nmeasure).result() \n",
    "    device_counts = result.get_counts() #Saves results as a dictionary object\n",
    "    #Simulation code\n",
    "else:\n",
    "# Load our saved IBMQ accounts and get the least busy backend device with less than or equal to 5 qubits\n",
    "    n=3\n",
    "    IBMQ.load_account()\n",
    "    provider = IBMQ.get_provider(hub='ibm-q')\n",
    "    backend = least_busy(provider.backends(filters=lambda x: x.configuration().n_qubits >= n and \n",
    "                                       not x.configuration().simulator and x.status().operational==True))\n",
    "    #Finds the least busy quantum computer on the IBM Q network\n",
    "    print(\"least busy backend: \", backend)\n",
    "\n",
    "# Execute and monitor the job\n",
    "    from qiskit.tools.monitor import job_monitor\n",
    "    shots = N_measure\n",
    "    transpiled_circ = transpile(circuit, backend, optimization_level=3) \n",
    "    qobj = assemble(transpiled_circ, shots=shots)\n",
    "    job = backend.run(qobj) #Send circuit to the quantum computer\n",
    "    job_monitor(job, interval=2)\n",
    "    device_counts = job.result().get_counts()\n",
    "\n",
    "possible_measurements = ['0','1']\n",
    "measurement_names = ['0','1']\n",
    "\n",
    "for name, measurement in zip(measurement_names, possible_measurements):\n",
    "    try:\n",
    "        device_counts[name] = device_counts.pop(measurement)\n",
    "    except:\n",
    "        device_counts[name] = 0\n",
    "\n",
    "print(device_counts)\n",
    "#plot_histogram(device_counts).savefig('histogram0.png')\n",
    "plot_histogram(device_counts)"
   ]
  },
  {
   "cell_type": "markdown",
   "id": "b868bb85-b8e4-41ac-b610-fa25b147184f",
   "metadata": {},
   "source": [
    "**Exercise:** The histogram above shows how many times the experiment has given $0$ and $1$. Does the result correspond with your expectations? Do not forget to explain why!"
   ]
  },
  {
   "cell_type": "markdown",
   "id": "e012e720-5c0c-4140-bc9e-8a5631b1e105",
   "metadata": {},
   "source": [
    "Now we will try also to act with the operator $X$ on our qubit."
   ]
  },
  {
   "cell_type": "code",
   "execution_count": 5,
   "id": "52e52d0d-3261-4062-a328-ca2f80ea1619",
   "metadata": {},
   "outputs": [
    {
     "data": {
      "image/png": "[encoded data removed]",
      "text/plain": [
       "<Figure size 269.064x200.667 with 1 Axes>"
      ]
     },
     "execution_count": 5,
     "metadata": {},
     "output_type": "execute_result"
    }
   ],
   "source": [
    "circuitX = QuantumCircuit(1,1)#Circuit with one qubit and one classical bit\n",
    "circuitX.x(0) #Use the X operator on the first qubit\n",
    "circuitX.measure(0,0) #Measure the first qubit and save the result in the first classical bit\n",
    "circuitX.draw() #Draw a circuit diagram"
   ]
  },
  {
   "cell_type": "markdown",
   "id": "e12894d5-2953-4b7b-a08c-08aa58131b22",
   "metadata": {},
   "source": [
    "**Exercise:** Explain the above diagram - recall that it is read from left to right!\n",
    "\n",
    "This circit will set up the qubit in the state $X|0\\rangle$. Which result do you expect to obtain if you now perform a measurement on this state?\n",
    "\n",
    "Check your prediction by running the experiment below!"
   ]
  },
  {
   "cell_type": "code",
   "execution_count": 6,
   "id": "292c7c9c-d9dd-4d46-9237-bb17ebaff91e",
   "metadata": {},
   "outputs": [],
   "source": [
    "sim = True\n",
    "N_measure = 100"
   ]
  },
  {
   "cell_type": "code",
   "execution_count": 7,
   "id": "34999843-9c98-46d1-a811-c4ca57b855c3",
   "metadata": {},
   "outputs": [
    {
     "name": "stdout",
     "output_type": "stream",
     "text": [
      "{'0': 0, '1': 100}\n"
     ]
    },
    {
     "data": {
      "image/png": "[encoded data removed]",
      "text/plain": [
       "<Figure size 700x500 with 1 Axes>"
      ]
     },
     "execution_count": 7,
     "metadata": {},
     "output_type": "execute_result"
    }
   ],
   "source": [
    "if sim:\n",
    "    simulator = Aer.get_backend('aer_simulator')\n",
    "    Nmeasure = N_measure #Amount of times the circuit is run\n",
    "    result = simulator.run(circuitX, shots=Nmeasure).result() \n",
    "    device_counts = result.get_counts() #Saves results as a dictionary object\n",
    "    #Simulation code\n",
    "else:\n",
    "# Load our saved IBMQ accounts and get the least busy backend device with less than or equal to 5 qubits\n",
    "    n=3\n",
    "    IBMQ.load_account()\n",
    "    provider = IBMQ.get_provider(hub='ibm-q')\n",
    "    backend = least_busy(provider.backends(filters=lambda x: x.configuration().n_qubits >= n and \n",
    "                                       not x.configuration().simulator and x.status().operational==True))\n",
    "    #Finds the least busy quantum computer on the IBM Q network\n",
    "    print(\"least busy backend: \", backend)\n",
    "\n",
    "# Execute and monitor the job\n",
    "    from qiskit.tools.monitor import job_monitor\n",
    "    shots = N_measure\n",
    "    transpiled_circ = transpile(circuitX, backend, optimization_level=3) \n",
    "    qobj = assemble(transpiled_circ, shots=shots)\n",
    "    job = backend.run(qobj) #Send circuit to the quantum computer\n",
    "    job_monitor(job, interval=2)\n",
    "    device_counts = job.result().get_counts()\n",
    "\n",
    "possible_measurements = ['0','1']\n",
    "measurement_names = ['0','1']\n",
    "\n",
    "for name, measurement in zip(measurement_names, possible_measurements):\n",
    "    try:\n",
    "        device_counts[name] = device_counts.pop(measurement)\n",
    "    except:\n",
    "        device_counts[name] = 0\n",
    "\n",
    "print(device_counts)\n",
    "plot_histogram(device_counts)"
   ]
  },
  {
   "cell_type": "markdown",
   "id": "90e71589-d6f7-44ab-80fd-c32969adf764",
   "metadata": {},
   "source": [
    "Now let's try with the operator $H$ - which result do you expect?"
   ]
  },
  {
   "cell_type": "code",
   "execution_count": 8,
   "id": "c0a81ffc-05f7-419b-8c78-fb6a87d089c5",
   "metadata": {},
   "outputs": [
    {
     "data": {
      "image/png": "[encoded data removed]",
      "text/plain": [
       "<Figure size 269.064x200.667 with 1 Axes>"
      ]
     },
     "execution_count": 8,
     "metadata": {},
     "output_type": "execute_result"
    }
   ],
   "source": [
    "circuitH = QuantumCircuit(1,1) #Circuit with one qubit and one classical bit\n",
    "circuitH.h(0) #Use the H operator on the first qubit\n",
    "circuitH.measure(0,0) \n",
    "circuitH.draw() "
   ]
  },
  {
   "cell_type": "code",
   "execution_count": 9,
   "id": "7a90ff59-af09-47a3-b7d5-dbc2f45c191a",
   "metadata": {},
   "outputs": [],
   "source": [
    "sim = True\n",
    "N_measure = 100"
   ]
  },
  {
   "cell_type": "code",
   "execution_count": 10,
   "id": "fdaf7c4c-a0f7-4891-8f1a-b2dcc33ae858",
   "metadata": {},
   "outputs": [
    {
     "name": "stdout",
     "output_type": "stream",
     "text": [
      "{'0': 59, '1': 41}\n"
     ]
    },
    {
     "data": {
      "image/png": "[encoded data removed]",
      "text/plain": [
       "<Figure size 700x500 with 1 Axes>"
      ]
     },
     "execution_count": 10,
     "metadata": {},
     "output_type": "execute_result"
    }
   ],
   "source": [
    "if sim:\n",
    "    simulator = Aer.get_backend('aer_simulator')\n",
    "    Nmeasure = N_measure #Amount of times the circuit is run\n",
    "    result = simulator.run(circuitH, shots=Nmeasure).result() \n",
    "    device_counts = result.get_counts() #Saves results as a dictionary object\n",
    "    #Simulation code\n",
    "else:\n",
    "# Load our saved IBMQ accounts and get the least busy backend device with less than or equal to 5 qubits\n",
    "    n=3\n",
    "    IBMQ.load_account()\n",
    "    provider = IBMQ.get_provider(hub='ibm-q')\n",
    "    backend = least_busy(provider.backends(filters=lambda x: x.configuration().n_qubits >= n and \n",
    "                                       not x.configuration().simulator and x.status().operational==True))\n",
    "    #Finds the least busy quantum computer on the IBM Q network\n",
    "    print(\"least busy backend: \", backend)\n",
    "\n",
    "# Execute and monitor the job\n",
    "    from qiskit.tools.monitor import job_monitor\n",
    "    shots = N_measure\n",
    "    transpiled_circ = transpile(circuitH, backend, optimization_level=3) \n",
    "    qobj = assemble(transpiled_circ, shots=shots)\n",
    "    job = backend.run(qobj) #Send circuit to the quantum computer\n",
    "    job_monitor(job, interval=2)\n",
    "    device_counts = job.result().get_counts()\n",
    "\n",
    "possible_measurements = ['0','1']\n",
    "measurement_names = ['0','1']\n",
    "\n",
    "for name, measurement in zip(measurement_names, possible_measurements):\n",
    "    try:\n",
    "        device_counts[name] = device_counts.pop(measurement)\n",
    "    except:\n",
    "        device_counts[name] = 0\n",
    "\n",
    "print(device_counts)\n",
    "plot_histogram(device_counts)\n",
    "#plot_histogram(device_counts).savefig('histogramH.png')"
   ]
  },
  {
   "cell_type": "markdown",
   "id": "8f3d000b-66c0-459a-856e-a05d508bc7c9",
   "metadata": {},
   "source": [
    "**Exercise:** Explain why the histogram above came out this way - does it correspond to your expectations? "
   ]
  },
  {
   "cell_type": "markdown",
   "id": "14bb6ef6-c8bc-4c13-82bd-0a219af6a883",
   "metadata": {},
   "source": [
    "**Exercise:** Try to repeat the experiment a single time instead of 100, by changing N_measure. If you only look at the result of the measurement, what can you say about the state of the system before the measurement? \n",
    "\n",
    "**Note** despite the innocent appearence of this experiment it is a very deep point you have just dicovered! "
   ]
  },
  {
   "cell_type": "markdown",
   "id": "cd3dbf55-48c1-4519-8b94-a03d505f142f",
   "metadata": {},
   "source": [
    "To round off this single qubit exercise we will try to perform two measurements right after one another. For a start we have the qubit in the state $|0\\rangle$ before the measurements. This is set up like this:"
   ]
  },
  {
   "cell_type": "code",
   "execution_count": 11,
   "id": "e42b87aa-a7d3-4d9c-a38e-bd34ef81767b",
   "metadata": {},
   "outputs": [
    {
     "data": {
      "image/png": "[encoded data removed]",
      "text/plain": [
       "<Figure size 436.286x200.667 with 1 Axes>"
      ]
     },
     "execution_count": 11,
     "metadata": {},
     "output_type": "execute_result"
    }
   ],
   "source": [
    "circuitM2 = QuantumCircuit(1,2) \n",
    "circuitM2.h(0) \n",
    "circuitM2.measure(0,0) #Measure the first qubit and save the result in the first classical bit\n",
    "circuitM2.measure(0,1) #Measure the first qubit and save the result in the second classical bit\n",
    "circuitM2.draw() "
   ]
  },
  {
   "cell_type": "code",
   "execution_count": 12,
   "id": "494197cd-ea2c-4754-9c31-91cd22ec2b81",
   "metadata": {},
   "outputs": [
    {
     "name": "stdout",
     "output_type": "stream",
     "text": [
      "{'000': 43, '111': 57}\n"
     ]
    },
    {
     "data": {
      "image/png": "[encoded data removed]",
      "text/plain": [
       "<Figure size 700x500 with 1 Axes>"
      ]
     },
     "execution_count": 12,
     "metadata": {},
     "output_type": "execute_result"
    }
   ],
   "source": [
    "    simulator = Aer.get_backend('aer_simulator')\n",
    "    Nmeasure = N_measure #Amount of times the circuit is run\n",
    "    result = simulator.run(circuitM2, shots=Nmeasure).result() \n",
    "    device_counts = result.get_counts() #Saves results as a dictionary object\n",
    "\n",
    "print(device_counts)\n",
    "plot_histogram(device_counts)\n",
    "#plot_histogram(device_counts).savefig('histogramH.png')"
   ]
  },
  {
   "cell_type": "markdown",
   "id": "9c596fc8-93d4-4145-a201-e65de8912da6",
   "metadata": {},
   "source": [
    "**How to read the result:** If the result is say, 11, it implies that the first measurement yielded 1 and so did the second measurement. Suppose the result instead was say, 01, this means that the first measurement gave 1 and the second gave 0. (Note that the first measurement is the one furthest to the right.) "
   ]
  },
  {
   "cell_type": "markdown",
   "id": "41bfb4dc-392b-4531-bef6-c0da7235acf3",
   "metadata": {},
   "source": [
    "**Exercise:** Try to explain the result. Try also to change the experiment such that the qubit is in the state $\\frac{1}{\\sqrt{2}}(|0\\rangle+|1\\rangle)$ before the two measurements. Again try to explain the result. \n",
    "\n",
    "**Note** there is again a very deep point in this still quite innocent appearing experiment."
   ]
  },
  {
   "cell_type": "markdown",
   "id": "0be359c3-9fa5-4eba-b5a2-33d51b805d96",
   "metadata": {},
   "source": [
    "**Exercise:** Try to set up a few experiments of your own. You could for instance try to insert an operator between the two measuremets, or insert more operators before a single measurement, it is all up to you! "
   ]
  },
  {
   "cell_type": "markdown",
   "id": "0711a1d8-3d47-427b-a228-a45ff90b5eb6",
   "metadata": {},
   "source": [
    "This exercise has given you a chance to learn a handful of things concerning qubits, operators and measurements - now you should be ready to move on and study operators which acts on more than one qubit at a time and entanglement!"
   ]
  },
  {
   "cell_type": "markdown",
   "id": "4d39dbba-f7cf-4ad5-9207-9e27bb4aeea5",
   "metadata": {},
   "source": [
    "**Ekstra exercise:** What would happen if we produced the state $ZH|0\\rangle$? Which result of the measurement would you expect? Check your prediction below!"
   ]
  },
  {
   "cell_type": "code",
   "execution_count": 13,
   "id": "b27cf2e3-bb39-402c-875b-a8dc64b1c460",
   "metadata": {},
   "outputs": [
    {
     "data": {
      "image/png": "[encoded data removed]",
      "text/plain": [
       "<Figure size 352.675x200.667 with 1 Axes>"
      ]
     },
     "execution_count": 13,
     "metadata": {},
     "output_type": "execute_result"
    }
   ],
   "source": [
    "circuitZH = QuantumCircuit(1,1) \n",
    "circuitZH.h(0) \n",
    "circuitZH.z(0) #Use the Z operator on the first qubit\n",
    "circuitZH.measure(0,0) \n",
    "circuitZH.draw() "
   ]
  },
  {
   "cell_type": "code",
   "execution_count": 14,
   "id": "ef846c33-04cc-4aff-8b81-5db5c2f342a4",
   "metadata": {},
   "outputs": [],
   "source": [
    "sim = True\n",
    "N_measure = 100"
   ]
  },
  {
   "cell_type": "code",
   "execution_count": 15,
   "id": "0c38bb8d-8631-43c4-9822-382ecfce2da1",
   "metadata": {},
   "outputs": [
    {
     "name": "stdout",
     "output_type": "stream",
     "text": [
      "{'0': 45, '1': 55}\n"
     ]
    },
    {
     "data": {
      "image/png": "[encoded data removed]",
      "text/plain": [
       "<Figure size 700x500 with 1 Axes>"
      ]
     },
     "execution_count": 15,
     "metadata": {},
     "output_type": "execute_result"
    }
   ],
   "source": [
    "if sim:\n",
    "    simulator = Aer.get_backend('aer_simulator')\n",
    "    Nmeasure = N_measure #Amount of times the circuit is run\n",
    "    result = simulator.run(circuitZH, shots=Nmeasure).result() \n",
    "    device_counts = result.get_counts() #Saves results as dictionary object\n",
    "    #Simulation code\n",
    "else:\n",
    "# Load our saved IBMQ accounts and get the least busy backend device with less than or equal to 5 qubits\n",
    "    n=3\n",
    "    IBMQ.load_account()\n",
    "    provider = IBMQ.get_provider(hub='ibm-q')\n",
    "    backend = least_busy(provider.backends(filters=lambda x: x.configuration().n_qubits >= n and \n",
    "                                       not x.configuration().simulator and x.status().operational==True))\n",
    "    #Finds the least busy quantum computer on the IBM Q network\n",
    "    print(\"least busy backend: \", backend)\n",
    "\n",
    "# Execute and monitor the job\n",
    "    from qiskit.tools.monitor import job_monitor\n",
    "    shots = N_measure\n",
    "    transpiled_circ = transpile(circuitZH, backend, optimization_level=3) \n",
    "    qobj = assemble(transpiled_circ, shots=shots)\n",
    "    job = backend.run(qobj) #Send circuit to the quantum computer\n",
    "    job_monitor(job, interval=2)\n",
    "    device_counts = job.result().get_counts()\n",
    "\n",
    "possible_measurements = ['0','1']\n",
    "measurement_names = ['0','1']\n",
    "\n",
    "for name, measurement in zip(measurement_names, possible_measurements):\n",
    "    try:\n",
    "        device_counts[name] = device_counts.pop(measurement)\n",
    "    except:\n",
    "        device_counts[name] = 0\n",
    "\n",
    "print(device_counts)\n",
    "plot_histogram(device_counts)"
   ]
  }
 ],
 "metadata": {
  "kernelspec": {
   "display_name": "Python 3 (ipykernel)",
   "language": "python",
   "name": "python3"
  },
  "language_info": {
   "codemirror_mode": {
    "name": "ipython",
    "version": 3
   },
   "file_extension": ".py",
   "mimetype": "text/x-python",
   "name": "python",
   "nbconvert_exporter": "python",
   "pygments_lexer": "ipython3",
   "version": "3.10.8"
  },
  "widgets": {
   "application/vnd.jupyter.widget-state+json": {
    "state": {
     "105e2ebd3d1742199fb6acf8c9c37333": {
      "model_module": "@jupyter-widgets/controls",
      "model_module_version": "2.0.0",
      "model_name": "HTMLStyleModel",
      "state": {
       "description_width": "",
       "font_size": null,
       "text_color": null
      }
     },
     "15980c7f0b2d49829bc7f9872c09ceca": {
      "model_module": "@jupyter-widgets/base",
      "model_module_version": "2.0.0",
      "model_name": "LayoutModel",
      "state": {
       "width": "95px"
      }
     },
     "1669ef11e2a849b392b2240b3e05dbbc": {
      "model_module": "@jupyter-widgets/controls",
      "model_module_version": "2.0.0",
      "model_name": "ButtonStyleModel",
      "state": {
       "font_family": null,
       "font_size": null,
       "font_style": null,
       "font_variant": null,
       "font_weight": null,
       "text_color": null,
       "text_decoration": null
      }
     },
     "24955aa4f61c4da5bf8e95d979b8d8a6": {
      "model_module": "@jupyter-widgets/base",
      "model_module_version": "2.0.0",
      "model_name": "LayoutModel",
      "state": {
       "grid_template_areas": "\n                                       \". . . . right \"\n                                        ",
       "grid_template_columns": "20% 20% 20% 20% 20%",
       "width": "100%"
      }
     },
     "2c7fe49fdb404f49b2137a66a6862c3a": {
      "model_module": "@jupyter-widgets/controls",
      "model_module_version": "2.0.0",
      "model_name": "HTMLModel",
      "state": {
       "layout": "IPY_MODEL_2e0dd93d194a4c908d862f62c57b2dcc",
       "style": "IPY_MODEL_6b1c47cd22ac4859839b3304fdfd7b42",
       "value": "<h5>Job ID</h5>"
      }
     },
     "2e0dd93d194a4c908d862f62c57b2dcc": {
      "model_module": "@jupyter-widgets/base",
      "model_module_version": "2.0.0",
      "model_name": "LayoutModel",
      "state": {
       "width": "190px"
      }
     },
     "3c71535f18d94cd0aed2d0ae46729ec8": {
      "model_module": "@jupyter-widgets/controls",
      "model_module_version": "2.0.0",
      "model_name": "HTMLModel",
      "state": {
       "layout": "IPY_MODEL_7bcc0029d0eb4d9e93f51be6540cead1",
       "style": "IPY_MODEL_6b22f360273a4421a25802c905c1b9f2",
       "value": "<p style='font-family: IBM Plex Sans, Arial, Helvetica, sans-serif; font-size: 20px; font-weight: medium;'>Circuit Properties</p>"
      }
     },
     "406c2bc88b784f4aa9280dbc814e4179": {
      "model_module": "@jupyter-widgets/controls",
      "model_module_version": "2.0.0",
      "model_name": "HTMLStyleModel",
      "state": {
       "description_width": "",
       "font_size": null,
       "text_color": null
      }
     },
     "4cd7a19638cc48628ba98544018977a7": {
      "model_module": "@jupyter-widgets/base",
      "model_module_version": "2.0.0",
      "model_name": "LayoutModel",
      "state": {
       "width": "145px"
      }
     },
     "4dd80dfd5ff741ab80f5338ab81c83de": {
      "model_module": "@jupyter-widgets/controls",
      "model_module_version": "2.0.0",
      "model_name": "HTMLModel",
      "state": {
       "layout": "IPY_MODEL_9cdee432dcc54a4ebdd36e0b3c10d5c6",
       "style": "IPY_MODEL_406c2bc88b784f4aa9280dbc814e4179",
       "value": "<h5>Queue</h5>"
      }
     },
     "6b1c47cd22ac4859839b3304fdfd7b42": {
      "model_module": "@jupyter-widgets/controls",
      "model_module_version": "2.0.0",
      "model_name": "HTMLStyleModel",
      "state": {
       "description_width": "",
       "font_size": null,
       "text_color": null
      }
     },
     "6b22f360273a4421a25802c905c1b9f2": {
      "model_module": "@jupyter-widgets/controls",
      "model_module_version": "2.0.0",
      "model_name": "HTMLStyleModel",
      "state": {
       "description_width": "",
       "font_size": null,
       "text_color": null
      }
     },
     "7bcc0029d0eb4d9e93f51be6540cead1": {
      "model_module": "@jupyter-widgets/base",
      "model_module_version": "2.0.0",
      "model_name": "LayoutModel",
      "state": {
       "margin": "0px 0px 10px 0px"
      }
     },
     "7f5bc24d2e3741d8bbfbce652f89a450": {
      "model_module": "@jupyter-widgets/controls",
      "model_module_version": "2.0.0",
      "model_name": "HTMLStyleModel",
      "state": {
       "description_width": "",
       "font_size": null,
       "text_color": null
      }
     },
     "80fd12469bcd42f9a630c075ed367596": {
      "model_module": "@jupyter-widgets/controls",
      "model_module_version": "2.0.0",
      "model_name": "HTMLModel",
      "state": {
       "layout": "IPY_MODEL_15980c7f0b2d49829bc7f9872c09ceca",
       "style": "IPY_MODEL_7f5bc24d2e3741d8bbfbce652f89a450",
       "value": "<h5>Status</h5>"
      }
     },
     "83ab883804b54547a3f8cd267ecf1188": {
      "model_module": "@jupyter-widgets/controls",
      "model_module_version": "2.0.0",
      "model_name": "HTMLStyleModel",
      "state": {
       "description_width": "",
       "font_size": null,
       "text_color": null
      }
     },
     "9b448cf997084a00a087c61301255b92": {
      "model_module": "@jupyter-widgets/controls",
      "model_module_version": "2.0.0",
      "model_name": "HBoxModel",
      "state": {
       "children": [
        "IPY_MODEL_2c7fe49fdb404f49b2137a66a6862c3a",
        "IPY_MODEL_e0d61caaebf84b91a0ba04b074b5922e",
        "IPY_MODEL_80fd12469bcd42f9a630c075ed367596",
        "IPY_MODEL_4dd80dfd5ff741ab80f5338ab81c83de",
        "IPY_MODEL_9c182883bc1b4b0fac207a9463fbe2c2"
       ],
       "layout": "IPY_MODEL_b0871c4194284b72aa5631e871b3fe0a"
      }
     },
     "9c182883bc1b4b0fac207a9463fbe2c2": {
      "model_module": "@jupyter-widgets/controls",
      "model_module_version": "2.0.0",
      "model_name": "HTMLModel",
      "state": {
       "layout": "IPY_MODEL_f5232d02aa4444c6a672204f0e97de00",
       "style": "IPY_MODEL_83ab883804b54547a3f8cd267ecf1188",
       "value": "<h5>Message</h5>"
      }
     },
     "9cdee432dcc54a4ebdd36e0b3c10d5c6": {
      "model_module": "@jupyter-widgets/base",
      "model_module_version": "2.0.0",
      "model_name": "LayoutModel",
      "state": {
       "width": "70px"
      }
     },
     "9e93bb52dd8342c6b1c75aed458d50fe": {
      "model_module": "@jupyter-widgets/controls",
      "model_module_version": "2.0.0",
      "model_name": "ButtonModel",
      "state": {
       "button_style": "primary",
       "description": "Clear",
       "layout": "IPY_MODEL_d11e95bdeb10449482bc6c5d6cd1464c",
       "style": "IPY_MODEL_1669ef11e2a849b392b2240b3e05dbbc",
       "tooltip": null
      }
     },
     "b0871c4194284b72aa5631e871b3fe0a": {
      "model_module": "@jupyter-widgets/base",
      "model_module_version": "2.0.0",
      "model_name": "LayoutModel",
      "state": {
       "margin": "0px 0px 0px 37px",
       "width": "600px"
      }
     },
     "d11e95bdeb10449482bc6c5d6cd1464c": {
      "model_module": "@jupyter-widgets/base",
      "model_module_version": "2.0.0",
      "model_name": "LayoutModel",
      "state": {
       "grid_area": "right",
       "padding": "0px 0px 0px 0px",
       "width": "70px"
      }
     },
     "e0d61caaebf84b91a0ba04b074b5922e": {
      "model_module": "@jupyter-widgets/controls",
      "model_module_version": "2.0.0",
      "model_name": "HTMLModel",
      "state": {
       "layout": "IPY_MODEL_4cd7a19638cc48628ba98544018977a7",
       "style": "IPY_MODEL_105e2ebd3d1742199fb6acf8c9c37333",
       "value": "<h5>Backend</h5>"
      }
     },
     "e402b261b1b546beab993d5f9176a0e1": {
      "model_module": "@jupyter-widgets/controls",
      "model_module_version": "2.0.0",
      "model_name": "GridBoxModel",
      "state": {
       "children": [
        "IPY_MODEL_9e93bb52dd8342c6b1c75aed458d50fe"
       ],
       "layout": "IPY_MODEL_24955aa4f61c4da5bf8e95d979b8d8a6"
      }
     },
     "f5232d02aa4444c6a672204f0e97de00": {
      "model_module": "@jupyter-widgets/base",
      "model_module_version": "2.0.0",
      "model_name": "LayoutModel",
      "state": {}
     }
    },
    "version_major": 2,
    "version_minor": 0
   }
  }
 },
 "nbformat": 4,
 "nbformat_minor": 5
}
