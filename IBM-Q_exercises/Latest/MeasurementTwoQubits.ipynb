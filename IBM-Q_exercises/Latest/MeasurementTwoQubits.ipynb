{
 "cells": [
  {
   "cell_type": "markdown",
   "id": "680524c7-bdf4-481c-87e2-05aeed7a7fde",
   "metadata": {},
   "source": [
    "# IBM Q Exercise 2: Measuring two (non-entangled) qubits\n",
    "### Written by Anna Liv Paludan Bjerregaard"
   ]
  },
  {
   "cell_type": "markdown",
   "id": "6ad692a3-e1e8-4a7c-8b8d-fed8c3b57bdd",
   "metadata": {},
   "source": [
    "In this exercise we expand our knowledge of quantum circuits from one qubit to two qubits!\n",
    "\n",
    "We'll start right away by making a circuit!"
   ]
  },
  {
   "cell_type": "code",
   "execution_count": null,
   "id": "94c020e0-0a13-4680-80ca-d752cafeb07a",
   "metadata": {
    "tags": []
   },
   "outputs": [],
   "source": [
    "import numpy as np\n",
    "import matplotlib.pyplot as plt\n",
    "# Importing standard Qiskit libraries\n",
    "from qiskit.providers.ibmq import least_busy\n",
    "from qiskit import QuantumCircuit, transpile, Aer, IBMQ, assemble\n",
    "\n",
    "from qiskit.tools.jupyter import *\n",
    "from qiskit.visualization import *\n",
    "from ibm_quantum_widgets import *\n",
    "\n",
    "# Loading your IBM Q account(s)\n",
    "provider = IBMQ.load_account()"
   ]
  },
  {
   "cell_type": "code",
   "execution_count": null,
   "id": "8ff098fe-0cfc-4de0-ac5b-1ddba47b487d",
   "metadata": {
    "tags": []
   },
   "outputs": [],
   "source": [
    "circuit = QuantumCircuit(2,2)\n",
    "circuit.x(1)\n",
    "circuit.barrier()\n",
    "circuit.measure(0,0)\n",
    "circuit.measure(1,1)\n",
    "circuit.draw()"
   ]
  },
  {
   "cell_type": "markdown",
   "id": "71e429d1-3edb-458d-bf3b-d440c29f75f3",
   "metadata": {},
   "source": [
    "Notice that we now have two lines marked \"$q$\" since we have two qubits. They have the subscripts \"0\" and \"1\" since Python (and most other programming languages) count from 0. So $q_o$ is the first qubit, and $q_1$ is the second. We use the operator $X$ on the second qubit. Notice as well that we make two measurements - first we measure the first qubit and then the second. Don't mind the grey barrier, it is only there for aesthetic purposes.\n",
    "\n",
    "\n",
    "**Exercise:** What state is each qubit in? What is the total state of the system?\n",
    "In the code below a measurement is performed on the system, what are the possible outcomes?"
   ]
  },
  {
   "cell_type": "code",
   "execution_count": null,
   "id": "5b8c2a29-f129-4cff-9bae-8ac98637b5b9",
   "metadata": {
    "tags": []
   },
   "outputs": [],
   "source": [
    "sim = True\n",
    "N_measure = 100"
   ]
  },
  {
   "cell_type": "code",
   "execution_count": null,
   "id": "c549371e-9542-41c9-bba0-d4ab8bc8dbf6",
   "metadata": {
    "tags": []
   },
   "outputs": [],
   "source": [
    "if sim:\n",
    "    simulator = Aer.get_backend('aer_simulator')\n",
    "    Nmeasure = N_measure #Amount of times the circuit is run\n",
    "    result = simulator.run(circuit, shots=Nmeasure).result() \n",
    "    device_counts = result.get_counts() #Saves results as dictionary object\n",
    "    #Simulation code\n",
    "else:\n",
    "# Load our saved IBMQ accounts and get the least busy backend device with less than or equal to 5 qubits\n",
    "    n=3\n",
    "    IBMQ.load_account()\n",
    "    provider = IBMQ.get_provider(hub='ibm-q')\n",
    "    backend = least_busy(provider.backends(filters=lambda x: x.configuration().n_qubits >= n and \n",
    "                                       not x.configuration().simulator and x.status().operational==True))\n",
    "    #Finds the least busy quantum computer on the IBM Q network\n",
    "    print(\"least busy backend: \", backend)\n",
    "\n",
    "# Execute and monitor the job\n",
    "    from qiskit.tools.monitor import job_monitor\n",
    "    shots = N_measure\n",
    "    transpiled_circ = transpile(circuit, backend, optimization_level=3) \n",
    "    job = backend.run(transpiled_circ) #Send circuit to the quantum computer\n",
    "    job_monitor(job, interval=2)\n",
    "    device_counts = job.result().get_counts()\n",
    "\n",
    "print(device_counts)\n",
    "plot_histogram(device_counts)"
   ]
  },
  {
   "cell_type": "markdown",
   "id": "fe5f7042-b962-4c50-8273-807c6550760f",
   "metadata": {},
   "source": [
    "Explain the histogram. Does it agree with your expectations?\n",
    "\n",
    "Now let's try replacing the operator $X$ with $H$."
   ]
  },
  {
   "cell_type": "code",
   "execution_count": null,
   "id": "a3107016-4622-4d4f-9c60-95e7c8f85d5d",
   "metadata": {
    "tags": []
   },
   "outputs": [],
   "source": [
    "circuitH = QuantumCircuit(2,2)\n",
    "circuitH.h(1)\n",
    "circuitH.barrier()\n",
    "circuitH.measure(0,0)\n",
    "circuitH.measure(1,1)\n",
    "circuitH.draw()"
   ]
  },
  {
   "cell_type": "markdown",
   "id": "8be94c99-f797-4594-a6ab-f2dc64db5741",
   "metadata": {},
   "source": [
    "**Exercise:** What state are the qubits in before the measurement? What are the possible outcomes of the measurement? With what propability do these outcomes occur?"
   ]
  },
  {
   "cell_type": "code",
   "execution_count": null,
   "id": "f6d6d65b-a659-4715-b4ec-6a9675672154",
   "metadata": {
    "tags": []
   },
   "outputs": [],
   "source": [
    "sim = True\n",
    "N_measure = 1024"
   ]
  },
  {
   "cell_type": "code",
   "execution_count": null,
   "id": "acd42873-6f2c-4450-9abf-8213573e70d7",
   "metadata": {
    "tags": []
   },
   "outputs": [],
   "source": [
    "if sim:\n",
    "    simulator = Aer.get_backend('aer_simulator')\n",
    "    Nmeasure = N_measure #Amount of times the circuit is run\n",
    "    result = simulator.run(circuitH, shots=Nmeasure).result() \n",
    "    device_counts = result.get_counts() #Saves results as dictionary object\n",
    "    #Simulation code\n",
    "else:\n",
    "# Load our saved IBMQ accounts and get the least busy backend device with less than or equal to 5 qubits\n",
    "    n=3\n",
    "    IBMQ.load_account()\n",
    "    provider = IBMQ.get_provider(hub='ibm-q')\n",
    "    backend = least_busy(provider.backends(filters=lambda x: x.configuration().n_qubits >= n and \n",
    "                                       not x.configuration().simulator and x.status().operational==True))\n",
    "    #Finds the least busy quantum computer on the IBM Q network\n",
    "    print(\"least busy backend: \", backend)\n",
    "\n",
    "# Execute and monitor the job\n",
    "    from qiskit.tools.monitor import job_monitor\n",
    "    shots = 1024\n",
    "    transpiled_circ = transpile(circuitH, backend, optimization_level=3) \n",
    "    job = backend.run(transpiled_circ) #Send circuit to the quantum computer\n",
    "    job_monitor(job, interval=2)\n",
    "    device_counts = job.result().get_counts()\n",
    "\n",
    "\n",
    "print(device_counts)\n",
    "plot_histogram(device_counts)"
   ]
  },
  {
   "cell_type": "markdown",
   "id": "b6c3334f-c1f8-4a3f-96ac-962ac1c12992",
   "metadata": {},
   "source": [
    "**Check:** Does the histogram match your expectations?"
   ]
  },
  {
   "cell_type": "markdown",
   "id": "26d21a1c-714c-4ad2-8142-99ff5afbd3f4",
   "metadata": {},
   "source": [
    "**Bonus excercises:** The next two circuits are bonus exercises, but feel free to look at them to get more experience with two-qubit systems."
   ]
  },
  {
   "cell_type": "code",
   "execution_count": null,
   "id": "55c39d2c-e6a7-47f2-850a-7d22475577bc",
   "metadata": {
    "tags": []
   },
   "outputs": [],
   "source": [
    "circuitE1 = QuantumCircuit(2,2)\n",
    "circuitE1.x(0)\n",
    "circuitE1.h(1)\n",
    "circuitE1.barrier()\n",
    "circuitE1.measure(0,0)\n",
    "circuitE1.measure(1,1)\n",
    "circuitE1.draw()"
   ]
  },
  {
   "cell_type": "markdown",
   "id": "49aa0179-d166-4ad3-8ef3-4d6a5d3ebccc",
   "metadata": {},
   "source": [
    "**Exercise:** Confirm that the circuit puts the qubits in the state\n",
    "$$\\frac{1}{\\sqrt{2}}\\left(|11\\rangle + |01\\rangle\\right)$$\n",
    "What are the possible outcomes of measuring this state? With what propabilities do they occur?"
   ]
  },
  {
   "cell_type": "code",
   "execution_count": null,
   "id": "30ffd8d4-158c-4cf1-bc04-e16daec0ee31",
   "metadata": {
    "tags": []
   },
   "outputs": [],
   "source": [
    "sim = True\n",
    "N_measure = 1024"
   ]
  },
  {
   "cell_type": "code",
   "execution_count": null,
   "id": "6cea9455-79da-4397-87b4-3c19ac9a53c4",
   "metadata": {
    "tags": []
   },
   "outputs": [],
   "source": [
    "if sim:\n",
    "    simulator = Aer.get_backend('aer_simulator')\n",
    "    Nmeasure = N_measure #Amount of times the circuit is run\n",
    "    result = simulator.run(circuitE1, shots=Nmeasure).result() \n",
    "    device_counts = result.get_counts() #Saves results as dictionary object\n",
    "    #Simulation code\n",
    "else:\n",
    "# Load our saved IBMQ accounts and get the least busy backend device with less than or equal to 5 qubits\n",
    "    n=3\n",
    "    IBMQ.load_account()\n",
    "    provider = IBMQ.get_provider(hub='ibm-q')\n",
    "    backend = least_busy(provider.backends(filters=lambda x: x.configuration().n_qubits >= n and \n",
    "                                       not x.configuration().simulator and x.status().operational==True))\n",
    "    #Finds the least busy quantum computer on the IBM Q network\n",
    "    print(\"least busy backend: \", backend)\n",
    "\n",
    "# Execute and monitor the job\n",
    "    from qiskit.tools.monitor import job_monitor\n",
    "    shots = 1024\n",
    "    transpiled_circ = transpile(circuitE1, backend, optimization_level=3) \n",
    "    job = backend.run(transpiled_circ) #Send circuit to the quantum computer\n",
    "    job_monitor(job, interval=2)\n",
    "    device_counts = job.result().get_counts()\n",
    "\n",
    "print(device_counts)\n",
    "plot_histogram(device_counts)"
   ]
  },
  {
   "cell_type": "code",
   "execution_count": null,
   "id": "4908f8f0-b4fb-4c96-aaad-705d98f3b8d2",
   "metadata": {
    "tags": []
   },
   "outputs": [],
   "source": [
    "circuitE2 = QuantumCircuit(2,2)\n",
    "circuitE2.x(0)\n",
    "circuitE2.h(1)\n",
    "circuitE2.z(0)\n",
    "circuitE2.z(1)\n",
    "circuitE2.barrier()\n",
    "circuitE2.measure(0,0)\n",
    "circuitE2.measure(1,1)\n",
    "circuitE2.draw()"
   ]
  },
  {
   "cell_type": "markdown",
   "id": "ef330fe9-9152-4d04-add7-25aa640091be",
   "metadata": {},
   "source": [
    "**Exercise:** Confirm that the circuit puts the qubits in the state\n",
    "$$\\frac{1}{\\sqrt{2}}\\left(|11\\rangle - |01\\rangle\\right)$$\n",
    "Do you expect the measurement of this circuit will be different that the circuit above?"
   ]
  },
  {
   "cell_type": "code",
   "execution_count": null,
   "id": "4bedff62-aa15-42d7-a9d9-f8321ed9a02c",
   "metadata": {
    "tags": []
   },
   "outputs": [],
   "source": [
    "sim = True\n",
    "N_measure = 1024"
   ]
  },
  {
   "cell_type": "code",
   "execution_count": null,
   "id": "2d069df5-6db8-46b5-b960-04aac6816549",
   "metadata": {
    "tags": []
   },
   "outputs": [],
   "source": [
    "if sim:\n",
    "    simulator = Aer.get_backend('aer_simulator')\n",
    "    Nmeasure = N_measure #Amount of times the circuit is run\n",
    "    result = simulator.run(circuitE2, shots=Nmeasure).result() \n",
    "    device_counts = result.get_counts() #Saves results as dictionary object\n",
    "    #Simulation code\n",
    "else:\n",
    "# Load our saved IBMQ accounts and get the least busy backend device with less than or equal to 5 qubits\n",
    "    n=3\n",
    "    IBMQ.load_account()\n",
    "    provider = IBMQ.get_provider(hub='ibm-q')\n",
    "    backend = least_busy(provider.backends(filters=lambda x: x.configuration().n_qubits >= n and \n",
    "                                       not x.configuration().simulator and x.status().operational==True))\n",
    "    #Finds the least busy quantum computer on the IBM Q network\n",
    "    print(\"least busy backend: \", backend)\n",
    "\n",
    "# Execute and monitor the job\n",
    "    from qiskit.tools.monitor import job_monitor\n",
    "    shots = 1024\n",
    "    transpiled_circ = transpile(circuitE2, backend, optimization_level=3) \n",
    "    job = backend.run(transpiled_circ) #Send circuit to the quantum computer\n",
    "    job_monitor(job, interval=2)\n",
    "    device_counts = job.result().get_counts()\n",
    "\n",
    "print(device_counts)\n",
    "plot_histogram(device_counts)"
   ]
  },
  {
   "cell_type": "markdown",
   "id": "53f7ee81-e754-4b47-b07a-56fa8d7d3f72",
   "metadata": {},
   "source": [
    "Now we've looked at some exercises with two qubits. Were any of them entangled? To put it another way, did measuring one qubit ever influence the other? What would happen if we exchanged the order of measurements in the circuits above?\n",
    "\n",
    "Having thought about these questions, you're ready to take on the next exercise which deals with entanglement!"
   ]
  },
  {
   "cell_type": "code",
   "execution_count": null,
   "id": "61c099f3-158b-4134-88ed-a87e5978085b",
   "metadata": {},
   "outputs": [],
   "source": []
  }
 ],
 "metadata": {
  "kernelspec": {
   "display_name": "Python 3 (ipykernel)",
   "language": "python",
   "name": "python3"
  },
  "language_info": {
   "codemirror_mode": {
    "name": "ipython",
    "version": 3
   },
   "file_extension": ".py",
   "mimetype": "text/x-python",
   "name": "python",
   "nbconvert_exporter": "python",
   "pygments_lexer": "ipython3",
   "version": "3.10.8"
  },
  "widgets": {
   "application/vnd.jupyter.widget-state+json": {
    "state": {
     "0bb8c8c7d654491cac7af8e170373646": {
      "model_module": "@jupyter-widgets/base",
      "model_module_version": "2.0.0",
      "model_name": "LayoutModel",
      "state": {
       "width": "70px"
      }
     },
     "0e718e869c294a138e34406ff0afe55c": {
      "model_module": "@jupyter-widgets/controls",
      "model_module_version": "2.0.0",
      "model_name": "HTMLStyleModel",
      "state": {
       "description_width": "",
       "font_size": null,
       "text_color": null
      }
     },
     "0edda12526174e0e95e2cbace68dce93": {
      "model_module": "@jupyter-widgets/controls",
      "model_module_version": "2.0.0",
      "model_name": "HTMLModel",
      "state": {
       "layout": "IPY_MODEL_0bb8c8c7d654491cac7af8e170373646",
       "style": "IPY_MODEL_3fd5643d3b5d4cdb87d07f38dee32fce",
       "value": "<h5>Queue</h5>"
      }
     },
     "12f0ab86ccce4ce5b0c8ca6dcfdf0de0": {
      "model_module": "@jupyter-widgets/base",
      "model_module_version": "2.0.0",
      "model_name": "LayoutModel",
      "state": {}
     },
     "325bcf9b2d9741219f4e810128e7df39": {
      "model_module": "@jupyter-widgets/controls",
      "model_module_version": "2.0.0",
      "model_name": "HTMLModel",
      "state": {
       "layout": "IPY_MODEL_d66e442387ee4abd9abf510200373186",
       "style": "IPY_MODEL_b49cfe010e5d4dd99c69f72cb66faca9",
       "value": "<h5>Backend</h5>"
      }
     },
     "3af463556d9e42609a4e39fd4e72c5b8": {
      "model_module": "@jupyter-widgets/base",
      "model_module_version": "2.0.0",
      "model_name": "LayoutModel",
      "state": {
       "margin": "0px 0px 0px 37px",
       "width": "600px"
      }
     },
     "3d9d5e559eda466a95a205c60d754122": {
      "model_module": "@jupyter-widgets/controls",
      "model_module_version": "2.0.0",
      "model_name": "HTMLModel",
      "state": {
       "layout": "IPY_MODEL_9bb838eae0384984b33a2530453e7414",
       "style": "IPY_MODEL_0e718e869c294a138e34406ff0afe55c",
       "value": "<p style='font-family: IBM Plex Sans, Arial, Helvetica, sans-serif; font-size: 20px; font-weight: medium;'>Circuit Properties</p>"
      }
     },
     "3fd5643d3b5d4cdb87d07f38dee32fce": {
      "model_module": "@jupyter-widgets/controls",
      "model_module_version": "2.0.0",
      "model_name": "HTMLStyleModel",
      "state": {
       "description_width": "",
       "font_size": null,
       "text_color": null
      }
     },
     "443af6178fe44d3593fb8136cbc8d4ab": {
      "model_module": "@jupyter-widgets/controls",
      "model_module_version": "2.0.0",
      "model_name": "HTMLModel",
      "state": {
       "layout": "IPY_MODEL_12f0ab86ccce4ce5b0c8ca6dcfdf0de0",
       "style": "IPY_MODEL_c6e8f5f0020d4569a30c0d64498b7bba",
       "value": "<h5>Message</h5>"
      }
     },
     "585d89e2fe56463a89baa026d6daf2bb": {
      "model_module": "@jupyter-widgets/controls",
      "model_module_version": "2.0.0",
      "model_name": "HTMLStyleModel",
      "state": {
       "description_width": "",
       "font_size": null,
       "text_color": null
      }
     },
     "6456467985e6491ab12ddc7461bc8419": {
      "model_module": "@jupyter-widgets/controls",
      "model_module_version": "2.0.0",
      "model_name": "ButtonStyleModel",
      "state": {
       "font_family": null,
       "font_size": null,
       "font_style": null,
       "font_variant": null,
       "font_weight": null,
       "text_color": null,
       "text_decoration": null
      }
     },
     "771d52d26e3044f3a2964405e3ec8b82": {
      "model_module": "@jupyter-widgets/controls",
      "model_module_version": "2.0.0",
      "model_name": "HTMLStyleModel",
      "state": {
       "description_width": "",
       "font_size": null,
       "text_color": null
      }
     },
     "9bb838eae0384984b33a2530453e7414": {
      "model_module": "@jupyter-widgets/base",
      "model_module_version": "2.0.0",
      "model_name": "LayoutModel",
      "state": {
       "margin": "0px 0px 10px 0px"
      }
     },
     "9e96443d4c4a4f9aacf1069a03f4b21a": {
      "model_module": "@jupyter-widgets/controls",
      "model_module_version": "2.0.0",
      "model_name": "HBoxModel",
      "state": {
       "children": [
        "IPY_MODEL_c0af9ecb5f884d1b9c75a17b06b54793",
        "IPY_MODEL_325bcf9b2d9741219f4e810128e7df39",
        "IPY_MODEL_cb8936992a8241f297a39f2690668104",
        "IPY_MODEL_0edda12526174e0e95e2cbace68dce93",
        "IPY_MODEL_443af6178fe44d3593fb8136cbc8d4ab"
       ],
       "layout": "IPY_MODEL_3af463556d9e42609a4e39fd4e72c5b8"
      }
     },
     "a05d8e0ce9e74df880ea89d98c58eb58": {
      "model_module": "@jupyter-widgets/controls",
      "model_module_version": "2.0.0",
      "model_name": "GridBoxModel",
      "state": {
       "children": [
        "IPY_MODEL_ec8705e59e2b4c529776fe8b85de8f92"
       ],
       "layout": "IPY_MODEL_b50f02ef462e42c2ae2957f45cc86201"
      }
     },
     "b49cfe010e5d4dd99c69f72cb66faca9": {
      "model_module": "@jupyter-widgets/controls",
      "model_module_version": "2.0.0",
      "model_name": "HTMLStyleModel",
      "state": {
       "description_width": "",
       "font_size": null,
       "text_color": null
      }
     },
     "b50f02ef462e42c2ae2957f45cc86201": {
      "model_module": "@jupyter-widgets/base",
      "model_module_version": "2.0.0",
      "model_name": "LayoutModel",
      "state": {
       "grid_template_areas": "\n                                       \". . . . right \"\n                                        ",
       "grid_template_columns": "20% 20% 20% 20% 20%",
       "width": "100%"
      }
     },
     "c0af9ecb5f884d1b9c75a17b06b54793": {
      "model_module": "@jupyter-widgets/controls",
      "model_module_version": "2.0.0",
      "model_name": "HTMLModel",
      "state": {
       "layout": "IPY_MODEL_f6344abe212f456097b4d90938887b5c",
       "style": "IPY_MODEL_771d52d26e3044f3a2964405e3ec8b82",
       "value": "<h5>Job ID</h5>"
      }
     },
     "c6e8f5f0020d4569a30c0d64498b7bba": {
      "model_module": "@jupyter-widgets/controls",
      "model_module_version": "2.0.0",
      "model_name": "HTMLStyleModel",
      "state": {
       "description_width": "",
       "font_size": null,
       "text_color": null
      }
     },
     "cb8936992a8241f297a39f2690668104": {
      "model_module": "@jupyter-widgets/controls",
      "model_module_version": "2.0.0",
      "model_name": "HTMLModel",
      "state": {
       "layout": "IPY_MODEL_de300a46c81148a29279338633c8decc",
       "style": "IPY_MODEL_585d89e2fe56463a89baa026d6daf2bb",
       "value": "<h5>Status</h5>"
      }
     },
     "cdab652be2f144aba38baafa822704ce": {
      "model_module": "@jupyter-widgets/base",
      "model_module_version": "2.0.0",
      "model_name": "LayoutModel",
      "state": {
       "grid_area": "right",
       "padding": "0px 0px 0px 0px",
       "width": "70px"
      }
     },
     "d66e442387ee4abd9abf510200373186": {
      "model_module": "@jupyter-widgets/base",
      "model_module_version": "2.0.0",
      "model_name": "LayoutModel",
      "state": {
       "width": "145px"
      }
     },
     "de300a46c81148a29279338633c8decc": {
      "model_module": "@jupyter-widgets/base",
      "model_module_version": "2.0.0",
      "model_name": "LayoutModel",
      "state": {
       "width": "95px"
      }
     },
     "ec8705e59e2b4c529776fe8b85de8f92": {
      "model_module": "@jupyter-widgets/controls",
      "model_module_version": "2.0.0",
      "model_name": "ButtonModel",
      "state": {
       "button_style": "primary",
       "description": "Clear",
       "layout": "IPY_MODEL_cdab652be2f144aba38baafa822704ce",
       "style": "IPY_MODEL_6456467985e6491ab12ddc7461bc8419",
       "tooltip": null
      }
     },
     "f6344abe212f456097b4d90938887b5c": {
      "model_module": "@jupyter-widgets/base",
      "model_module_version": "2.0.0",
      "model_name": "LayoutModel",
      "state": {
       "width": "190px"
      }
     }
    },
    "version_major": 2,
    "version_minor": 0
   }
  }
 },
 "nbformat": 4,
 "nbformat_minor": 5
}
