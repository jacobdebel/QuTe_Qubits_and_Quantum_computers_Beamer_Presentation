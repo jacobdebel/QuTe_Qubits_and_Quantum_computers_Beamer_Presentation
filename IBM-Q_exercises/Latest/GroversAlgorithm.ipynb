{
 "cells": [
  {
   "cell_type": "markdown",
   "metadata": {
    "tags": [
     "remove_cell"
    ]
   },
   "source": [
    "# IBM Q Exercise 4: Grover's Algorithm\n",
    "### Written by Anna Liv Paludan Bjerregaard"
   ]
  },
  {
   "cell_type": "markdown",
   "metadata": {},
   "source": [
    "In this exercise we get to work with a real quantum-algorithm, that is to say, an algorithm that runs on a quantum computer! Specifically we'll be looking at Grover's algorithm, described in section 12 of the notes."
   ]
  },
  {
   "cell_type": "code",
   "execution_count": null,
   "metadata": {},
   "outputs": [],
   "source": [
    "import numpy as np\n",
    "import matplotlib.pyplot as plt\n",
    "# Importing standard Qiskit libraries\n",
    "from qiskit.providers.ibmq import least_busy\n",
    "from qiskit import QuantumCircuit, transpile, Aer, IBMQ, assemble\n",
    "\n",
    "from qiskit.tools.jupyter import *\n",
    "from qiskit.visualization import *\n",
    "from ibm_quantum_widgets import *\n",
    "\n",
    "# Loading your IBM Q account(s)\n",
    "provider = IBMQ.load_account()"
   ]
  },
  {
   "cell_type": "markdown",
   "metadata": {},
   "source": [
    "We start by constructing a circuit which applies Grovers algorithm to a state of two qubits, meaning that we perform a search on a space with $2^2=4$ possibilities: 00, 01, 10 and 11. Let's say we want our circuit to find the result 11. We encode this into \"The Oracle\". This might feel like cheating, but remember that this is a search algorithm - when you do a Google search you also have to tell the machine what you're searching for!"
   ]
  },
  {
   "cell_type": "code",
   "execution_count": null,
   "metadata": {
    "tags": [
     "thebelab-init"
    ]
   },
   "outputs": [],
   "source": [
    "n = 2\n",
    "grover_circuit = QuantumCircuit(n)\n",
    "def initialize_s(qc, qubits):\n",
    "    \"\"\"Apply a H-gate to 'qubits' in qc\"\"\"\n",
    "    for q in qubits:\n",
    "        qc.h(q)\n",
    "    return qc\n",
    "grover_circuit = initialize_s(grover_circuit, [0,1])\n",
    "#grover_circuit.x(0)#apply to modify oracle\n",
    "#grover_circuit.x(1)#apply to modify oracle\n",
    "grover_circuit.cz(0,1) # Oracle\n",
    "#grover_circuit.x(0)#apply to modify oracle\n",
    "#grover_circuit.x(1)#apply to modify oracle\n",
    "# Diffusion operator (U_s)\n",
    "grover_circuit.h([0,1])\n",
    "grover_circuit.z([0,1])\n",
    "grover_circuit.cz(0,1)\n",
    "grover_circuit.h([0,1])\n",
    "grover_circuit.measure_all()\n",
    "grover_circuit.draw()"
   ]
  },
  {
   "cell_type": "markdown",
   "metadata": {},
   "source": [
    "You don't need to understand the diagram, but if you want to you're welcome to try and parse through it!"
   ]
  },
  {
   "cell_type": "markdown",
   "metadata": {},
   "source": [
    "If the algorithm works as intended it should arrive at the result 11 *every time* we measure. Try running the code below first as a simulation (`sim = True`) and next on a real quantum computer (`sim = False`). Du you expect different results using the two methods?"
   ]
  },
  {
   "cell_type": "code",
   "execution_count": null,
   "metadata": {},
   "outputs": [],
   "source": [
    "sim = True\n",
    "N_measure = 1024"
   ]
  },
  {
   "cell_type": "code",
   "execution_count": null,
   "metadata": {},
   "outputs": [],
   "source": [
    "if sim:\n",
    "    simulator = Aer.get_backend('aer_simulator')\n",
    "    Nmeasure = N_measure #Amount of times the circuit is run\n",
    "    result = simulator.run(grover_circuit, shots=Nmeasure).result() \n",
    "    device_counts = result.get_counts() #Saves results as dictionary object\n",
    "    #Simulation code\n",
    "else:\n",
    "# Load our saved IBMQ accounts and get the least busy backend device with less than or equal to 5 qubits\n",
    "    n=3\n",
    "    IBMQ.load_account()\n",
    "    provider = IBMQ.get_provider(hub='ibm-q')\n",
    "    backend = least_busy(provider.backends(filters=lambda x: x.configuration().n_qubits >= n and \n",
    "                                       not x.configuration().simulator and x.status().operational==True))\n",
    "    #Finds the least busy quantum computer on the IBM Q network\n",
    "    print(\"least busy backend: \", backend)\n",
    "\n",
    "# Execute and monitor the job\n",
    "    from qiskit.tools.monitor import job_monitor\n",
    "    shots = 1024\n",
    "    transpiled_circ = transpile(grover_circuit, backend, optimization_level=3) \n",
    "    job = backend.run(transpiled_circ) #Send circuit to the quantum computer\n",
    "    job_monitor(job, interval=2)\n",
    "    device_counts = job.result().get_counts()\n",
    "\n",
    "print(device_counts)\n",
    "plot_histogram(device_counts)"
   ]
  },
  {
   "cell_type": "markdown",
   "metadata": {},
   "source": [
    "If you had time to try the real quantum computer: How did the result change from the simulation? Why do you think that is?"
   ]
  },
  {
   "cell_type": "markdown",
   "metadata": {
    "tags": [
     "uses-hardware"
    ]
   },
   "source": [
    "Now you've tried running a real quantum algorithm!\n",
    "Through these exercises you've learned about\n",
    "\n",
    "1. What a qubit is\n",
    "\n",
    "2. How to measure them\n",
    "\n",
    "3. Entanglement of qubits\n",
    "\n",
    "4. How to use qubits to make algorithms for quantum computers\n",
    "\n",
    "and you're well equipped to explore the world of quantum computers further!"
   ]
  },
  {
   "cell_type": "markdown",
   "metadata": {},
   "source": [
    "**Bonus exercise:** Let's try to run Grover's algorithm on three qubits! This gives us $2^3 = 8$ possibilities. In this example we choose $|111\\rangle$ to be our solution and encode it into The Oracle. You can change the variable `n_grover` to control the amount of times Grover's algorithm is applied. Try some different values and see how the result changes! If the wait time is not too long, you can try running the circuit on a quantum computer by setting `sim = False`."
   ]
  },
  {
   "cell_type": "code",
   "execution_count": null,
   "metadata": {},
   "outputs": [],
   "source": [
    "qc = QuantumCircuit(3)\n",
    "#qc.cz(0, 2)#This and the next line picks |101> and |110>\n",
    "#qc.cz(1, 2)\n",
    "qc.h(2)#the ande the following 2 lines picks the |111> state \n",
    "qc.ccx(0,1,2)\n",
    "qc.h(2)\n",
    "\n",
    "oracle_ex3 = qc.to_gate()\n",
    "oracle_ex3.name = \"U$_\\omega$\"\n",
    "\n",
    "def diffuser(nqubits):\n",
    "    qc = QuantumCircuit(nqubits)\n",
    "    # Apply transformation |s> -> |00..0> (H-gates)\n",
    "    for qubit in range(nqubits):\n",
    "        qc.h(qubit)\n",
    "    # Apply transformation |00..0> -> |11..1> (X-gates)\n",
    "    for qubit in range(nqubits):\n",
    "        qc.x(qubit)\n",
    "    # Do multi-controlled-Z gate\n",
    "    qc.h(nqubits-1)\n",
    "    qc.mct(list(range(nqubits-1)), nqubits-1)  # multi-controlled-toffoli\n",
    "    qc.h(nqubits-1)\n",
    "    # Apply transformation |11..1> -> |00..0>\n",
    "    for qubit in range(nqubits):\n",
    "        qc.x(qubit)\n",
    "    # Apply transformation |00..0> -> |s>\n",
    "    for qubit in range(nqubits):\n",
    "        qc.h(qubit)\n",
    "    # We will return the diffuser as a gate\n",
    "    U_s = qc.to_gate()\n",
    "    U_s.name = \"U$_s$\"\n",
    "    return U_s"
   ]
  },
  {
   "cell_type": "code",
   "execution_count": null,
   "metadata": {},
   "outputs": [],
   "source": [
    "n = 3\n",
    "n_grover = 1\n",
    "\n",
    "grover_circuit = QuantumCircuit(n)\n",
    "grover_circuit = initialize_s(grover_circuit, [0,1,2])\n",
    "for i in range(n_grover):\n",
    "    grover_circuit.append(oracle_ex3, [0,1,2])\n",
    "    grover_circuit.append(diffuser(n), [0,1,2])\n",
    "grover_circuit.measure_all()\n",
    "grover_circuit.draw()"
   ]
  },
  {
   "cell_type": "code",
   "execution_count": null,
   "metadata": {},
   "outputs": [],
   "source": [
    "sim = True\n",
    "N_measure = 1024"
   ]
  },
  {
   "cell_type": "code",
   "execution_count": null,
   "metadata": {
    "tags": []
   },
   "outputs": [],
   "source": [
    "if sim:\n",
    "    aer_sim = Aer.get_backend('aer_simulator')\n",
    "    transpiled_grover_circuit = transpile(grover_circuit, aer_sim)\n",
    "#    qobj = assemble(transpiled_grover_circuit)\n",
    "    results = aer_sim.run(transpiled_grover_circuit).result()\n",
    "    device_counts = results.get_counts()\n",
    "    #Simulation code\n",
    "else:\n",
    "# Load our saved IBMQ accounts and get the least busy backend device with less than or equal to 5 qubits\n",
    "    n=3\n",
    "    IBMQ.load_account()\n",
    "    provider = IBMQ.get_provider(hub='ibm-q')\n",
    "    backend = least_busy(provider.backends(filters=lambda x: x.configuration().n_qubits >= n and \n",
    "                                       not x.configuration().simulator and x.status().operational==True))\n",
    "    #Finds the least busy quantum computer on the IBM Q network\n",
    "    print(\"least busy backend: \", backend)\n",
    "\n",
    "# Execute and monitor the job\n",
    "    from qiskit.tools.monitor import job_monitor\n",
    "    shots = 1024\n",
    "    transpiled_circ = transpile(grover_circuit, backend, optimization_level=3) \n",
    "    job = backend.run(transpiled_circ) #Send circuit to the quantum computer\n",
    "    job_monitor(job, interval=2)\n",
    "    device_counts = job.result().get_counts()\n",
    "\n",
    "print(device_counts)\n",
    "plot_histogram(device_counts)"
   ]
  }
 ],
 "metadata": {
  "kernelspec": {
   "display_name": "Python 3 (ipykernel)",
   "language": "python",
   "name": "python3"
  },
  "language_info": {
   "codemirror_mode": {
    "name": "ipython",
    "version": 3
   },
   "file_extension": ".py",
   "mimetype": "text/x-python",
   "name": "python",
   "nbconvert_exporter": "python",
   "pygments_lexer": "ipython3",
   "version": "3.10.8"
  },
  "widgets": {
   "application/vnd.jupyter.widget-state+json": {
    "state": {
     "0f5337dac9fa446394bb8a58f24a81a4": {
      "model_module": "@jupyter-widgets/controls",
      "model_module_version": "2.0.0",
      "model_name": "HTMLStyleModel",
      "state": {
       "description_width": "",
       "font_size": null,
       "text_color": null
      }
     },
     "15781845d1c446fb9e9f08d1d0c7d1fd": {
      "model_module": "@jupyter-widgets/controls",
      "model_module_version": "2.0.0",
      "model_name": "HTMLStyleModel",
      "state": {
       "description_width": "",
       "font_size": null,
       "text_color": null
      }
     },
     "19e7c7ce83f04022a7fbb6e3a2b76f5a": {
      "model_module": "@jupyter-widgets/controls",
      "model_module_version": "2.0.0",
      "model_name": "HTMLModel",
      "state": {
       "layout": "IPY_MODEL_52d2ce0f63614c8d85f6bf54c36da509",
       "style": "IPY_MODEL_ae138f359ae74f93a3f2cd3efb3d7d4c",
       "value": "<p style='font-family: IBM Plex Sans, Arial, Helvetica, sans-serif; font-size: 20px; font-weight: medium;'>Circuit Properties</p>"
      }
     },
     "22771c494f604a208e5223bbb7bde9ac": {
      "model_module": "@jupyter-widgets/controls",
      "model_module_version": "2.0.0",
      "model_name": "HTMLModel",
      "state": {
       "layout": "IPY_MODEL_57c9abfd65d74c63bd3ea041b69f4009",
       "style": "IPY_MODEL_5800122669f443d4861a895912e2cbeb",
       "value": "<h5>Message</h5>"
      }
     },
     "23a0e2104e28493ebf9f9880ba388ed0": {
      "model_module": "@jupyter-widgets/controls",
      "model_module_version": "2.0.0",
      "model_name": "HTMLModel",
      "state": {
       "layout": "IPY_MODEL_2a0be673d1c743e6a8da7a0358f93892",
       "style": "IPY_MODEL_15781845d1c446fb9e9f08d1d0c7d1fd",
       "value": "<h5>Status</h5>"
      }
     },
     "2953d978d7344fca8970bd7084e32296": {
      "model_module": "@jupyter-widgets/controls",
      "model_module_version": "2.0.0",
      "model_name": "HTMLStyleModel",
      "state": {
       "description_width": "",
       "font_size": null,
       "text_color": null
      }
     },
     "2a0be673d1c743e6a8da7a0358f93892": {
      "model_module": "@jupyter-widgets/base",
      "model_module_version": "2.0.0",
      "model_name": "LayoutModel",
      "state": {
       "width": "95px"
      }
     },
     "306d382ba3ac47769e9ccca77652cb5f": {
      "model_module": "@jupyter-widgets/base",
      "model_module_version": "2.0.0",
      "model_name": "LayoutModel",
      "state": {
       "width": "145px"
      }
     },
     "4a1920856fef46bbbe8d0cff1eabf518": {
      "model_module": "@jupyter-widgets/controls",
      "model_module_version": "2.0.0",
      "model_name": "HBoxModel",
      "state": {
       "children": [
        "IPY_MODEL_eecd51623fd543cda2fd0de706b1f42b",
        "IPY_MODEL_d33e1ec39aa34e8d9710918f9c1667c8",
        "IPY_MODEL_23a0e2104e28493ebf9f9880ba388ed0",
        "IPY_MODEL_85653437a4fb465197a548dd3e1c9e63",
        "IPY_MODEL_22771c494f604a208e5223bbb7bde9ac"
       ],
       "layout": "IPY_MODEL_c9cc56b79d6b442bb6fb6ee54c99d840"
      }
     },
     "52d2ce0f63614c8d85f6bf54c36da509": {
      "model_module": "@jupyter-widgets/base",
      "model_module_version": "2.0.0",
      "model_name": "LayoutModel",
      "state": {
       "margin": "0px 0px 10px 0px"
      }
     },
     "57c9abfd65d74c63bd3ea041b69f4009": {
      "model_module": "@jupyter-widgets/base",
      "model_module_version": "2.0.0",
      "model_name": "LayoutModel",
      "state": {}
     },
     "5800122669f443d4861a895912e2cbeb": {
      "model_module": "@jupyter-widgets/controls",
      "model_module_version": "2.0.0",
      "model_name": "HTMLStyleModel",
      "state": {
       "description_width": "",
       "font_size": null,
       "text_color": null
      }
     },
     "5d8ca136ca054b5aaa2a3e34564a30ad": {
      "model_module": "@jupyter-widgets/base",
      "model_module_version": "2.0.0",
      "model_name": "LayoutModel",
      "state": {
       "grid_area": "right",
       "padding": "0px 0px 0px 0px",
       "width": "70px"
      }
     },
     "85653437a4fb465197a548dd3e1c9e63": {
      "model_module": "@jupyter-widgets/controls",
      "model_module_version": "2.0.0",
      "model_name": "HTMLModel",
      "state": {
       "layout": "IPY_MODEL_d98ea38bc92f405aa11f8e6a5bd9b366",
       "style": "IPY_MODEL_8f22ff51404049cab6180b4a2b228b95",
       "value": "<h5>Queue</h5>"
      }
     },
     "8f22ff51404049cab6180b4a2b228b95": {
      "model_module": "@jupyter-widgets/controls",
      "model_module_version": "2.0.0",
      "model_name": "HTMLStyleModel",
      "state": {
       "description_width": "",
       "font_size": null,
       "text_color": null
      }
     },
     "941c498fd6df4d88ab20bda7c7caa2b1": {
      "model_module": "@jupyter-widgets/base",
      "model_module_version": "2.0.0",
      "model_name": "LayoutModel",
      "state": {
       "grid_template_areas": "\n                                       \". . . . right \"\n                                        ",
       "grid_template_columns": "20% 20% 20% 20% 20%",
       "width": "100%"
      }
     },
     "ae138f359ae74f93a3f2cd3efb3d7d4c": {
      "model_module": "@jupyter-widgets/controls",
      "model_module_version": "2.0.0",
      "model_name": "HTMLStyleModel",
      "state": {
       "description_width": "",
       "font_size": null,
       "text_color": null
      }
     },
     "c70a2626740048f4a167fb089cdb0557": {
      "model_module": "@jupyter-widgets/base",
      "model_module_version": "2.0.0",
      "model_name": "LayoutModel",
      "state": {
       "width": "190px"
      }
     },
     "c8bace6d97d341acae1f57254faca513": {
      "model_module": "@jupyter-widgets/controls",
      "model_module_version": "2.0.0",
      "model_name": "GridBoxModel",
      "state": {
       "children": [
        "IPY_MODEL_e916c43001564a5686336965ee01821b"
       ],
       "layout": "IPY_MODEL_941c498fd6df4d88ab20bda7c7caa2b1"
      }
     },
     "c9cc56b79d6b442bb6fb6ee54c99d840": {
      "model_module": "@jupyter-widgets/base",
      "model_module_version": "2.0.0",
      "model_name": "LayoutModel",
      "state": {
       "margin": "0px 0px 0px 37px",
       "width": "600px"
      }
     },
     "d33e1ec39aa34e8d9710918f9c1667c8": {
      "model_module": "@jupyter-widgets/controls",
      "model_module_version": "2.0.0",
      "model_name": "HTMLModel",
      "state": {
       "layout": "IPY_MODEL_306d382ba3ac47769e9ccca77652cb5f",
       "style": "IPY_MODEL_2953d978d7344fca8970bd7084e32296",
       "value": "<h5>Backend</h5>"
      }
     },
     "d98ea38bc92f405aa11f8e6a5bd9b366": {
      "model_module": "@jupyter-widgets/base",
      "model_module_version": "2.0.0",
      "model_name": "LayoutModel",
      "state": {
       "width": "70px"
      }
     },
     "dfd0f9062f504d3fb88b5b73995dd23d": {
      "model_module": "@jupyter-widgets/controls",
      "model_module_version": "2.0.0",
      "model_name": "ButtonStyleModel",
      "state": {
       "font_family": null,
       "font_size": null,
       "font_style": null,
       "font_variant": null,
       "font_weight": null,
       "text_color": null,
       "text_decoration": null
      }
     },
     "e916c43001564a5686336965ee01821b": {
      "model_module": "@jupyter-widgets/controls",
      "model_module_version": "2.0.0",
      "model_name": "ButtonModel",
      "state": {
       "button_style": "primary",
       "description": "Clear",
       "layout": "IPY_MODEL_5d8ca136ca054b5aaa2a3e34564a30ad",
       "style": "IPY_MODEL_dfd0f9062f504d3fb88b5b73995dd23d",
       "tooltip": null
      }
     },
     "eecd51623fd543cda2fd0de706b1f42b": {
      "model_module": "@jupyter-widgets/controls",
      "model_module_version": "2.0.0",
      "model_name": "HTMLModel",
      "state": {
       "layout": "IPY_MODEL_c70a2626740048f4a167fb089cdb0557",
       "style": "IPY_MODEL_0f5337dac9fa446394bb8a58f24a81a4",
       "value": "<h5>Job ID</h5>"
      }
     }
    },
    "version_major": 2,
    "version_minor": 0
   }
  }
 },
 "nbformat": 4,
 "nbformat_minor": 4
}
