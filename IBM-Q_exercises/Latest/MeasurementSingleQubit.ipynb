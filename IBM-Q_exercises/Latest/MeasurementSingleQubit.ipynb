{
 "cells": [
  {
   "cell_type": "markdown",
   "id": "cde050f3-178c-49d2-8141-400cfe9b2409",
   "metadata": {},
   "source": [
    "# IBM Q Exercise 1: Measurement of 1 qubit\n",
    "### Written by Anna Liv Paludan Bjerregaard"
   ]
  },
  {
   "cell_type": "markdown",
   "id": "212aceb6-b5b9-4d50-b76d-6bb1cd000574",
   "metadata": {},
   "source": [
    "This exercise will introdce you to the possibilities in IBM Q and at the same time allow you to explore som very cool quantum physics! \n",
    "You will:\n",
    "\n",
    "1) Produce your first quantum-circuit\n",
    "\n",
    "2) Measure a qubit \n",
    "\n",
    "3) Use operators on this qubit\n",
    "\n",
    "IBM Q uses the code-language Python. Please, dot worry too much about this, we do not expect that you know this in advance. All you need to know to get started is that you press `shift`+`return` to run the code in a given cell - try it out with the block of code below which imports the packages we will need for the exercise!"
   ]
  },
  {
   "cell_type": "code",
   "execution_count": null,
   "id": "abb7b29c-e8bd-4146-84ea-97360fb5fc7f",
   "metadata": {
    "tags": []
   },
   "outputs": [],
   "source": [
    "import numpy as np\n",
    "import matplotlib.pyplot as plt\n",
    "# Importing standard Qiskit libraries\n",
    "from qiskit.providers.ibmq import least_busy\n",
    "from qiskit import QuantumCircuit, transpile, Aer, IBMQ, assemble\n",
    "\n",
    "from qiskit.tools.jupyter import *\n",
    "from qiskit.visualization import *\n",
    "from ibm_quantum_widgets import *\n",
    "\n",
    "# Loading your IBM Q account(s)\n",
    "provider = IBMQ.load_account()"
   ]
  },
  {
   "cell_type": "markdown",
   "id": "ebff8074-b7b6-4941-8498-739b008c7a41",
   "metadata": {},
   "source": [
    "We start off with a quantum circuit with a single qubit and a measurement device. Run the code below to set up the circuit."
   ]
  },
  {
   "cell_type": "code",
   "execution_count": null,
   "id": "7f004275-ff5a-455a-a6ff-4ccce023c8d1",
   "metadata": {
    "tags": []
   },
   "outputs": [],
   "source": [
    "circuit = QuantumCircuit(1,1) #Circuit with one qubit and one classical bit\n",
    "circuit.measure(0,0) #Measure the first qubit and save the result in the first classical bit\n",
    "circuit.draw() #Draw a circuit ciagram"
   ]
  },
  {
   "cell_type": "markdown",
   "id": "ae5c3d7d-92ff-48ce-837c-d3bf165d12f9",
   "metadata": {},
   "source": [
    "***How to read the diagramme:*** The above diagramme is read from left to right. The line \"q\" indicates a qubit while the \"c\" line indicates a classical bit. The black box with the gauge is the measurement device - it performs a measurement of the qubit'en and stores the resuly in the classical bit.\n",
    "\n",
    "For a start the qubit is always in the state $|0\\rangle$.\n",
    "\n",
    "**Exercise 1:** Which result do you expect will result from the measurement in this circuit?\n",
    "\n",
    "Now try to check with an experiment! \n",
    "\n",
    "The code below takes this circuit, peerforms the corresponding experiment and shows the reslts. The variable `N_measure`determines the number of times the experiment is repeated. The quantity `sim` determines if the experiment will be carried out on a simulator or a real quentum computer! If you set `sim = False` the instructions in the circuit will be send to a real quentum computer somewhere in the world! Note that this may take some time as you may have to wait yor turn - but why not try tonight or during the weekend where the line is typically shorter!"
   ]
  },
  {
   "cell_type": "code",
   "execution_count": null,
   "id": "7ba4b105-566e-4cd3-b7f4-bafcd9214470",
   "metadata": {
    "tags": []
   },
   "outputs": [],
   "source": [
    "sim = True\n",
    "N_measure = 100"
   ]
  },
  {
   "cell_type": "code",
   "execution_count": null,
   "id": "836840f3-0a63-4703-bf64-9b736bbb1ef7",
   "metadata": {
    "tags": []
   },
   "outputs": [],
   "source": [
    "if sim:\n",
    "    simulator = Aer.get_backend('aer_simulator')\n",
    "    Nmeasure = N_measure #Amount of times the circuit is run\n",
    "    result = simulator.run(circuit, shots=Nmeasure).result() \n",
    "    device_counts = result.get_counts() #Saves results as dictionary object\n",
    "    #Simulation code\n",
    "else:\n",
    "# Load our saved IBMQ accounts and get the least busy backend device with less than or equal to 5 qubits\n",
    "    n=3\n",
    "    IBMQ.load_account()\n",
    "    provider = IBMQ.get_provider(hub='ibm-q')\n",
    "    backend = least_busy(provider.backends(filters=lambda x: x.configuration().n_qubits >= n and \n",
    "                                       not x.configuration().simulator and x.status().operational==True))\n",
    "    #Finds the least busy quantum computer on the IBM Q network\n",
    "    print(\"least busy backend: \", backend)\n",
    "\n",
    "# Execute and monitor the job\n",
    "    from qiskit.tools.monitor import job_monitor\n",
    "    shots = N_measure\n",
    "    transpiled_circ = transpile(circuit, backend, optimization_level=3) \n",
    "    job = backend.run(transpiled_circ) #Send circuit to the quantum computer\n",
    "    job_monitor(job, interval=2)\n",
    "    device_counts = job.result().get_counts()\n",
    "\n",
    "print(device_counts)\n",
    "#plot_histogram(device_counts).savefig('histogram0.png')\n",
    "plot_histogram(device_counts)"
   ]
  },
  {
   "cell_type": "markdown",
   "id": "b868bb85-b8e4-41ac-b610-fa25b147184f",
   "metadata": {},
   "source": [
    "**Exercise:** The histogramme above shows how many times the experiment has given $0$ and $1$. Does the result correspond with your expectation? Do not forget to explain why!"
   ]
  },
  {
   "cell_type": "markdown",
   "id": "e012e720-5c0c-4140-bc9e-8a5631b1e105",
   "metadata": {},
   "source": [
    "Now we will try also to act with the operator $X$ on our qubit."
   ]
  },
  {
   "cell_type": "code",
   "execution_count": null,
   "id": "52e52d0d-3261-4062-a328-ca2f80ea1619",
   "metadata": {
    "tags": []
   },
   "outputs": [],
   "source": [
    "circuitX = QuantumCircuit(1,1)#Circuit with one qubit and one classical bit\n",
    "circuitX.x(0) #Use the X operator on the first qubit\n",
    "circuitX.measure(0,0) #Measure the first qubit and save the result in the first classical bit\n",
    "circuitX.draw() #Draw a circuit diagram"
   ]
  },
  {
   "cell_type": "markdown",
   "id": "e12894d5-2953-4b7b-a08c-08aa58131b22",
   "metadata": {},
   "source": [
    "**Exercise:** Explain the above diagram - recall that it is read from left to right!\n",
    "\n",
    "This circit will set up the qubit in the state $X|0\\rangle$. Which result do you expect to obtain if you now perform a measurement on this state?\n",
    "\n",
    "Check your prediction by rnning the experiment below!"
   ]
  },
  {
   "cell_type": "code",
   "execution_count": null,
   "id": "292c7c9c-d9dd-4d46-9237-bb17ebaff91e",
   "metadata": {
    "tags": []
   },
   "outputs": [],
   "source": [
    "sim = True\n",
    "N_measure = 100"
   ]
  },
  {
   "cell_type": "code",
   "execution_count": null,
   "id": "34999843-9c98-46d1-a811-c4ca57b855c3",
   "metadata": {
    "tags": []
   },
   "outputs": [],
   "source": [
    "if sim:\n",
    "    simulator = Aer.get_backend('aer_simulator')\n",
    "    Nmeasure = N_measure #Amount of times the circuit is run\n",
    "    result = simulator.run(circuitX, shots=Nmeasure).result() \n",
    "    device_counts = result.get_counts() #Saves results as dictionary object\n",
    "    #Simulation code\n",
    "else:\n",
    "# Load our saved IBMQ accounts and get the least busy backend device with less than or equal to 5 qubits\n",
    "    n=3\n",
    "    IBMQ.load_account()\n",
    "    provider = IBMQ.get_provider(hub='ibm-q')\n",
    "    backend = least_busy(provider.backends(filters=lambda x: x.configuration().n_qubits >= n and \n",
    "                                       not x.configuration().simulator and x.status().operational==True))\n",
    "    #Finds the least busy quantum computer on the IBM Q network\n",
    "    print(\"least busy backend: \", backend)\n",
    "\n",
    "# Execute and monitor the job\n",
    "    from qiskit.tools.monitor import job_monitor\n",
    "    shots = N_measure\n",
    "    transpiled_circ = transpile(circuitX, backend, optimization_level=3) \n",
    "    job = backend.run(transpiled_circ) #Send circuit to the quantum computer\n",
    "    job_monitor(job, interval=2)\n",
    "    device_counts = job.result().get_counts()\n",
    "\n",
    "\n",
    "print(device_counts)\n",
    "plot_histogram(device_counts)"
   ]
  },
  {
   "cell_type": "markdown",
   "id": "90e71589-d6f7-44ab-80fd-c32969adf764",
   "metadata": {},
   "source": [
    "Now let's try with the operator $H$ - which result do you expect?"
   ]
  },
  {
   "cell_type": "code",
   "execution_count": null,
   "id": "c0a81ffc-05f7-419b-8c78-fb6a87d089c5",
   "metadata": {
    "tags": []
   },
   "outputs": [],
   "source": [
    "circuitH = QuantumCircuit(1,1) #KCirucit with one qubit and one classical bit\n",
    "circuitH.h(0) #Use the H operator on the first qubit\n",
    "circuitH.measure(0,0) \n",
    "circuitH.draw() "
   ]
  },
  {
   "cell_type": "code",
   "execution_count": null,
   "id": "7a90ff59-af09-47a3-b7d5-dbc2f45c191a",
   "metadata": {
    "tags": []
   },
   "outputs": [],
   "source": [
    "sim = True\n",
    "N_measure = 100"
   ]
  },
  {
   "cell_type": "code",
   "execution_count": null,
   "id": "fdaf7c4c-a0f7-4891-8f1a-b2dcc33ae858",
   "metadata": {
    "tags": []
   },
   "outputs": [],
   "source": [
    "if sim:\n",
    "    simulator = Aer.get_backend('aer_simulator')\n",
    "    Nmeasure = N_measure #Amount of times the circuit is run\n",
    "    result = simulator.run(circuitH, shots=Nmeasure).result() \n",
    "    device_counts = result.get_counts() #Saves results as dictionary object\n",
    "    #Simulation code\n",
    "else:\n",
    "# Load our saved IBMQ accounts and get the least busy backend device with less than or equal to 5 qubits\n",
    "    n=3\n",
    "    IBMQ.load_account()\n",
    "    provider = IBMQ.get_provider(hub='ibm-q')\n",
    "    backend = least_busy(provider.backends(filters=lambda x: x.configuration().n_qubits >= n and \n",
    "                                       not x.configuration().simulator and x.status().operational==True))\n",
    "    #Finds the least busy quantum computer on the IBM Q network\n",
    "    print(\"least busy backend: \", backend)\n",
    "\n",
    "# Execute and monitor the job\n",
    "    from qiskit.tools.monitor import job_monitor\n",
    "    shots = N_measure\n",
    "    transpiled_circ = transpile(circuitH, backend, optimization_level=3) \n",
    "    job = backend.run(transpiled_circ) #Send circuit to the quantum computer\n",
    "    job_monitor(job, interval=2)\n",
    "    device_counts = job.result().get_counts()\n",
    "\n",
    "print(device_counts)\n",
    "plot_histogram(device_counts)\n",
    "#plot_histogram(device_counts).savefig('histogramH.png')"
   ]
  },
  {
   "cell_type": "markdown",
   "id": "8f3d000b-66c0-459a-856e-a05d508bc7c9",
   "metadata": {},
   "source": [
    "**Exercise:** Explain why the histogram above came out this way - does it correspond to your expectation? "
   ]
  },
  {
   "cell_type": "markdown",
   "id": "14bb6ef6-c8bc-4c13-82bd-0a219af6a883",
   "metadata": {},
   "source": [
    "**Exercise:** Try to repeat the experiment a single time insetad of 100, by changing `N_measure`. If you only look at the result of the measurement, what can you say about the state of the system before the measurement? \n",
    "\n",
    "**Note:** despite the innocent appearence of this experiment it is a very deep point you have just dicovered! "
   ]
  },
  {
   "cell_type": "markdown",
   "id": "cd3dbf55-48c1-4519-8b94-a03d505f142f",
   "metadata": {},
   "source": [
    "To round off this single qubit exercise we will try to perform two measurements right after one another. For a start we have the qubit in the state $|0\\rangle$ before the measurements. This is set up like this:"
   ]
  },
  {
   "cell_type": "code",
   "execution_count": null,
   "id": "e42b87aa-a7d3-4d9c-a38e-bd34ef81767b",
   "metadata": {
    "tags": []
   },
   "outputs": [],
   "source": [
    "circuitM2 = QuantumCircuit(1,2) \n",
    "circuitM2.h(0) \n",
    "circuitM2.measure(0,0) #Measure the first qubit and save the result in the first classical bit\n",
    "circuitM2.measure(0,1) #Measure the first qubit and save the result in the second classical bit\n",
    "circuitM2.draw() "
   ]
  },
  {
   "cell_type": "code",
   "execution_count": null,
   "id": "465ce0cf-bed2-439a-8bfb-19c24508029e",
   "metadata": {
    "tags": []
   },
   "outputs": [],
   "source": [
    "sim = True\n",
    "N_measure = 100"
   ]
  },
  {
   "cell_type": "code",
   "execution_count": null,
   "id": "494197cd-ea2c-4754-9c31-91cd22ec2b81",
   "metadata": {
    "tags": []
   },
   "outputs": [],
   "source": [
    "if sim:\n",
    "    simulator = Aer.get_backend('aer_simulator')\n",
    "    Nmeasure = N_measure #Amount of times the circuit is run\n",
    "    result = simulator.run(circuitM2, shots=Nmeasure).result() \n",
    "    device_counts = result.get_counts() #Saves results as dictionary object\n",
    "    #Simulation code\n",
    "else:\n",
    "# Load our saved IBMQ accounts and get the least busy backend device with less than or equal to 5 qubits\n",
    "    n=3\n",
    "    IBMQ.load_account()\n",
    "    provider = IBMQ.get_provider(hub='ibm-q')\n",
    "    backend = least_busy(provider.backends(filters=lambda x: x.configuration().n_qubits >= n and \n",
    "                                       not x.configuration().simulator and x.status().operational==True))\n",
    "    #Finds the least busy quantum computer on the IBM Q network\n",
    "    print(\"least busy backend: \", backend)\n",
    "\n",
    "# Execute and monitor the job\n",
    "    from qiskit.tools.monitor import job_monitor\n",
    "    shots = N_measure\n",
    "    transpiled_circ = transpile(circuitM2, backend, optimization_level=3) \n",
    "    job = backend.run(transpiled_circ) #Send circuit to the quantum computer\n",
    "    job_monitor(job, interval=2)\n",
    "    device_counts = job.result().get_counts()\n",
    "\n",
    "\n",
    "print(device_counts)\n",
    "plot_histogram(device_counts)"
   ]
  },
  {
   "cell_type": "markdown",
   "id": "9c596fc8-93d4-4145-a201-e65de8912da6",
   "metadata": {},
   "source": [
    "**How to read the result:** If the result is say, 11 the implies that the first measuremnt yieldes 1 and so did the second. Suppose the result instead was say 01, this means that the first measurement gave 1 and the second gave 0. (Note that the first measurement is the one furthest to the right.) "
   ]
  },
  {
   "cell_type": "markdown",
   "id": "41bfb4dc-392b-4531-bef6-c0da7235acf3",
   "metadata": {},
   "source": [
    "**Exercise:** Try to explain the result. Try also to change the experiment such that the qubit is in the state $\\frac{1}{\\sqrt{2}}(|0\\rangle+|1\\rangle)$ before the two measurements. Again try to explain the result. \n",
    "\n",
    "**Note:** there is again a very deep point in this still quite innocent appearing experiment."
   ]
  },
  {
   "cell_type": "markdown",
   "id": "0be359c3-9fa5-4eba-b5a2-33d51b805d96",
   "metadata": {},
   "source": [
    "**Exercise:** Try to set up a few experiments of your own. You could for instance try to insert an operator between the two measuremets, or insert more oprtarors befor a single measurement, it is up to you! "
   ]
  },
  {
   "cell_type": "markdown",
   "id": "0711a1d8-3d47-427b-a228-a45ff90b5eb6",
   "metadata": {},
   "source": [
    "This exercise has given you a chance to learn a handful of things concerning qubits, operators and measurements - now you should be ready to move on and study operators which acts on more than one qubit at the time and entanglement!"
   ]
  },
  {
   "cell_type": "markdown",
   "id": "4d39dbba-f7cf-4ad5-9207-9e27bb4aeea5",
   "metadata": {},
   "source": [
    "**Ekstra exercise:** What would happen if we produced that state $ZH|0\\rangle$? Which result of the measurement would you expect? Check your prediction below!"
   ]
  },
  {
   "cell_type": "code",
   "execution_count": null,
   "id": "b27cf2e3-bb39-402c-875b-a8dc64b1c460",
   "metadata": {
    "tags": []
   },
   "outputs": [],
   "source": [
    "circuitZH = QuantumCircuit(1,1) \n",
    "circuitZH.h(0) \n",
    "circuitZH.z(0) #Use the Z operator on the first qubit\n",
    "circuitZH.measure(0,0) \n",
    "circuitZH.draw() "
   ]
  },
  {
   "cell_type": "code",
   "execution_count": null,
   "id": "ef846c33-04cc-4aff-8b81-5db5c2f342a4",
   "metadata": {
    "tags": []
   },
   "outputs": [],
   "source": [
    "sim = True\n",
    "N_measure = 100"
   ]
  },
  {
   "cell_type": "code",
   "execution_count": null,
   "id": "0c38bb8d-8631-43c4-9822-382ecfce2da1",
   "metadata": {
    "tags": []
   },
   "outputs": [],
   "source": [
    "if sim:\n",
    "    simulator = Aer.get_backend('aer_simulator')\n",
    "    Nmeasure = N_measure #Amount of times the circuit is run\n",
    "    result = simulator.run(circuitZH, shots=Nmeasure).result() \n",
    "    device_counts = result.get_counts() #Saves results as dictionary object\n",
    "    #Simulation code\n",
    "else:\n",
    "# Load our saved IBMQ accounts and get the least busy backend device with less than or equal to 5 qubits\n",
    "    n=3\n",
    "    IBMQ.load_account()\n",
    "    provider = IBMQ.get_provider(hub='ibm-q')\n",
    "    backend = least_busy(provider.backends(filters=lambda x: x.configuration().n_qubits >= n and \n",
    "                                       not x.configuration().simulator and x.status().operational==True))\n",
    "    #Finds the least busy quantum computer on the IBM Q network\n",
    "    print(\"least busy backend: \", backend)\n",
    "\n",
    "# Execute and monitor the job\n",
    "    from qiskit.tools.monitor import job_monitor\n",
    "    shots = N_measure\n",
    "    transpiled_circ = transpile(circuitZH, backend, optimization_level=3) \n",
    "    job = backend.run(transpiled_circ) #Send circuit to the quantum computer\n",
    "    job_monitor(job, interval=2)\n",
    "    device_counts = job.result().get_counts()\n",
    "\n",
    "print(device_counts)\n",
    "plot_histogram(device_counts)"
   ]
  }
 ],
 "metadata": {
  "kernelspec": {
   "display_name": "Python 3 (ipykernel)",
   "language": "python",
   "name": "python3"
  },
  "language_info": {
   "codemirror_mode": {
    "name": "ipython",
    "version": 3
   },
   "file_extension": ".py",
   "mimetype": "text/x-python",
   "name": "python",
   "nbconvert_exporter": "python",
   "pygments_lexer": "ipython3",
   "version": "3.10.8"
  },
  "widgets": {
   "application/vnd.jupyter.widget-state+json": {
    "state": {
     "0444977d578d482cb81bfe4577c1542a": {
      "model_module": "@jupyter-widgets/base",
      "model_module_version": "2.0.0",
      "model_name": "LayoutModel",
      "state": {
       "width": "70px"
      }
     },
     "06b29172d776454193e0ac0cfd8e5452": {
      "model_module": "@jupyter-widgets/base",
      "model_module_version": "2.0.0",
      "model_name": "LayoutModel",
      "state": {
       "width": "95px"
      }
     },
     "1167891647154e09933feb4951e42061": {
      "model_module": "@jupyter-widgets/base",
      "model_module_version": "2.0.0",
      "model_name": "LayoutModel",
      "state": {
       "grid_area": "right",
       "padding": "0px 0px 0px 0px",
       "width": "70px"
      }
     },
     "1751f6df80d34071b8d28a7e4a14ed34": {
      "model_module": "@jupyter-widgets/controls",
      "model_module_version": "2.0.0",
      "model_name": "HTMLModel",
      "state": {
       "layout": "IPY_MODEL_06b29172d776454193e0ac0cfd8e5452",
       "style": "IPY_MODEL_cbf1ad5664e2400c914b72ab30dfa845",
       "value": "<h5>Status</h5>"
      }
     },
     "18400231fced4bfe983518cc8b4d0fb8": {
      "model_module": "@jupyter-widgets/controls",
      "model_module_version": "2.0.0",
      "model_name": "ButtonModel",
      "state": {
       "button_style": "primary",
       "description": "Clear",
       "layout": "IPY_MODEL_1167891647154e09933feb4951e42061",
       "style": "IPY_MODEL_7864e7f2e11f448f8a7358167bf641fb",
       "tooltip": null
      }
     },
     "1ccb380e5b06477fb83ecb3553a509dc": {
      "model_module": "@jupyter-widgets/controls",
      "model_module_version": "2.0.0",
      "model_name": "HTMLStyleModel",
      "state": {
       "description_width": "",
       "font_size": null,
       "text_color": null
      }
     },
     "2e50d5c7d9e14464ac480ceb5309e050": {
      "model_module": "@jupyter-widgets/controls",
      "model_module_version": "2.0.0",
      "model_name": "HTMLModel",
      "state": {
       "layout": "IPY_MODEL_7b6614f4dd4e4153a8f0daaed4059381",
       "style": "IPY_MODEL_f3382b5170e447d9bc58e3d385ca0e5b",
       "value": "<h5>Message</h5>"
      }
     },
     "393f7f3c6c494fea945d39647e08f6c1": {
      "model_module": "@jupyter-widgets/base",
      "model_module_version": "2.0.0",
      "model_name": "LayoutModel",
      "state": {
       "width": "190px"
      }
     },
     "55424f471c954502b93b0ad79f9c0ff9": {
      "model_module": "@jupyter-widgets/controls",
      "model_module_version": "2.0.0",
      "model_name": "HTMLStyleModel",
      "state": {
       "description_width": "",
       "font_size": null,
       "text_color": null
      }
     },
     "6a084a53dc13467d97816017899ce1f6": {
      "model_module": "@jupyter-widgets/controls",
      "model_module_version": "2.0.0",
      "model_name": "HTMLStyleModel",
      "state": {
       "description_width": "",
       "font_size": null,
       "text_color": null
      }
     },
     "72024d1d85314b388e67f9b5e8b02fe3": {
      "model_module": "@jupyter-widgets/base",
      "model_module_version": "2.0.0",
      "model_name": "LayoutModel",
      "state": {
       "margin": "0px 0px 0px 37px",
       "width": "600px"
      }
     },
     "7864e7f2e11f448f8a7358167bf641fb": {
      "model_module": "@jupyter-widgets/controls",
      "model_module_version": "2.0.0",
      "model_name": "ButtonStyleModel",
      "state": {
       "font_family": null,
       "font_size": null,
       "font_style": null,
       "font_variant": null,
       "font_weight": null,
       "text_color": null,
       "text_decoration": null
      }
     },
     "7b6614f4dd4e4153a8f0daaed4059381": {
      "model_module": "@jupyter-widgets/base",
      "model_module_version": "2.0.0",
      "model_name": "LayoutModel",
      "state": {}
     },
     "7c65798affba4b8995c05db63c56d2e3": {
      "model_module": "@jupyter-widgets/controls",
      "model_module_version": "2.0.0",
      "model_name": "HTMLModel",
      "state": {
       "layout": "IPY_MODEL_dc7cf78016474d90a62ccef75fd3d909",
       "style": "IPY_MODEL_1ccb380e5b06477fb83ecb3553a509dc",
       "value": "<p style='font-family: IBM Plex Sans, Arial, Helvetica, sans-serif; font-size: 20px; font-weight: medium;'>Circuit Properties</p>"
      }
     },
     "a093dafaf5c64501b02b033b7569138b": {
      "model_module": "@jupyter-widgets/base",
      "model_module_version": "2.0.0",
      "model_name": "LayoutModel",
      "state": {
       "grid_template_areas": "\n                                       \". . . . right \"\n                                        ",
       "grid_template_columns": "20% 20% 20% 20% 20%",
       "width": "100%"
      }
     },
     "a1ef05663fb04bb3a2eb81934d650689": {
      "model_module": "@jupyter-widgets/controls",
      "model_module_version": "2.0.0",
      "model_name": "HBoxModel",
      "state": {
       "children": [
        "IPY_MODEL_adf7c19e799347f98e91a5f0c2e32dbc",
        "IPY_MODEL_aa886b00d95643059e3e9ee2e6010306",
        "IPY_MODEL_1751f6df80d34071b8d28a7e4a14ed34",
        "IPY_MODEL_a471d28848674af1ae5edd4a40d80055",
        "IPY_MODEL_2e50d5c7d9e14464ac480ceb5309e050"
       ],
       "layout": "IPY_MODEL_72024d1d85314b388e67f9b5e8b02fe3"
      }
     },
     "a471d28848674af1ae5edd4a40d80055": {
      "model_module": "@jupyter-widgets/controls",
      "model_module_version": "2.0.0",
      "model_name": "HTMLModel",
      "state": {
       "layout": "IPY_MODEL_0444977d578d482cb81bfe4577c1542a",
       "style": "IPY_MODEL_6a084a53dc13467d97816017899ce1f6",
       "value": "<h5>Queue</h5>"
      }
     },
     "a9a222b42421437198594b03ce5cbe9b": {
      "model_module": "@jupyter-widgets/controls",
      "model_module_version": "2.0.0",
      "model_name": "GridBoxModel",
      "state": {
       "children": [
        "IPY_MODEL_18400231fced4bfe983518cc8b4d0fb8"
       ],
       "layout": "IPY_MODEL_a093dafaf5c64501b02b033b7569138b"
      }
     },
     "aa886b00d95643059e3e9ee2e6010306": {
      "model_module": "@jupyter-widgets/controls",
      "model_module_version": "2.0.0",
      "model_name": "HTMLModel",
      "state": {
       "layout": "IPY_MODEL_f3f0d71816434fd9b9a3a796c332351e",
       "style": "IPY_MODEL_55424f471c954502b93b0ad79f9c0ff9",
       "value": "<h5>Backend</h5>"
      }
     },
     "adf7c19e799347f98e91a5f0c2e32dbc": {
      "model_module": "@jupyter-widgets/controls",
      "model_module_version": "2.0.0",
      "model_name": "HTMLModel",
      "state": {
       "layout": "IPY_MODEL_393f7f3c6c494fea945d39647e08f6c1",
       "style": "IPY_MODEL_af7fd87fbe6143d886b23b2160636355",
       "value": "<h5>Job ID</h5>"
      }
     },
     "af7fd87fbe6143d886b23b2160636355": {
      "model_module": "@jupyter-widgets/controls",
      "model_module_version": "2.0.0",
      "model_name": "HTMLStyleModel",
      "state": {
       "description_width": "",
       "font_size": null,
       "text_color": null
      }
     },
     "cbf1ad5664e2400c914b72ab30dfa845": {
      "model_module": "@jupyter-widgets/controls",
      "model_module_version": "2.0.0",
      "model_name": "HTMLStyleModel",
      "state": {
       "description_width": "",
       "font_size": null,
       "text_color": null
      }
     },
     "dc7cf78016474d90a62ccef75fd3d909": {
      "model_module": "@jupyter-widgets/base",
      "model_module_version": "2.0.0",
      "model_name": "LayoutModel",
      "state": {
       "margin": "0px 0px 10px 0px"
      }
     },
     "f3382b5170e447d9bc58e3d385ca0e5b": {
      "model_module": "@jupyter-widgets/controls",
      "model_module_version": "2.0.0",
      "model_name": "HTMLStyleModel",
      "state": {
       "description_width": "",
       "font_size": null,
       "text_color": null
      }
     },
     "f3f0d71816434fd9b9a3a796c332351e": {
      "model_module": "@jupyter-widgets/base",
      "model_module_version": "2.0.0",
      "model_name": "LayoutModel",
      "state": {
       "width": "145px"
      }
     }
    },
    "version_major": 2,
    "version_minor": 0
   }
  }
 },
 "nbformat": 4,
 "nbformat_minor": 5
}
